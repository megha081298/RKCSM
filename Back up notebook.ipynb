{
 "cells": [
  {
   "cell_type": "code",
   "execution_count": 1,
   "id": "2cb0bba7",
   "metadata": {},
   "outputs": [
    {
     "name": "stdout",
     "output_type": "stream",
     "text": [
      "Hello\n"
     ]
    }
   ],
   "source": [
    "print(\"Hello\")"
   ]
  },
  {
   "cell_type": "markdown",
   "id": "549ce3f8",
   "metadata": {},
   "source": [
    "hey hi "
   ]
  },
  {
   "cell_type": "code",
   "execution_count": 2,
   "id": "eb33aeca",
   "metadata": {},
   "outputs": [
    {
     "name": "stdout",
     "output_type": "stream",
     "text": [
      "Megha\n"
     ]
    }
   ],
   "source": [
    "print(\"Megha\")"
   ]
  },
  {
   "cell_type": "markdown",
   "id": "d8482aa6",
   "metadata": {},
   "source": [
    "Why Python?\n",
    "This is beacause python is intrepreter and have a capability to take ample entries of data and it also support OOPs(Object Oriented Programming) which helps you to reuse a peice of code any amount of time whenever it's called.\n",
    "\n",
    "Data types in python.\n",
    "What are data:- data is anything that consumes space and anything that have information inside it is data.\n",
    "\n",
    "Data types: use to identify the type of value which we have entered.\n",
    "\n",
    "What are different data types in python?\n",
    "\n",
    "\n",
    "Integer: is data types which hold numeric value. example:-1,2,3,4,5 but not 1.2,0.1 etc.\n",
    "Float  :   is data types which hold numeric value which is in decimal format. example: 1.2,1.1,3.1,3.0 etc.\n",
    "String :  it is combination of characters which can be alphabet,numbers and decimal but inside the inverted commas.\n",
    "List   : List is defined under square brackets and can be anything i.e. string, float,int seperated with commas.\n",
    "tuple  : tuple is defined under normal brackets and can be anything i.e. string, float,int seperated with commas.\n",
    "Sets   : sets is defined under curly brackets and can be anything i.e. string, float,int seperated with commas but           difference is it only gives unique values as output.\n",
    "Dict   : it follows the combination of key value pair and key value pair can be anything i.e. numbers or charaters              etc.\n",
    "Boolean: True and False.\n",
    "None   : as name mentioned.\n",
    "\n",
    "\n",
    "\n",
    "\"PYTHON IS CASE SENSITIVE.\"\n",
    "\n",
    "\n",
    "\n",
    "\n",
    "Variable Declaration in Python:\n",
    "x=10\n",
    "y=3.0"
   ]
  },
  {
   "cell_type": "code",
   "execution_count": 3,
   "id": "dd4cdc5b",
   "metadata": {},
   "outputs": [
    {
     "name": "stdout",
     "output_type": "stream",
     "text": [
      "<class 'int'>\n"
     ]
    }
   ],
   "source": [
    "x=10  \n",
    "print(type(x))\n",
    "\n"
   ]
  },
  {
   "cell_type": "code",
   "execution_count": 4,
   "id": "beea61b4",
   "metadata": {},
   "outputs": [
    {
     "name": "stdout",
     "output_type": "stream",
     "text": [
      "<class 'float'>\n"
     ]
    }
   ],
   "source": [
    "x=10.0 \n",
    "print(type(x))"
   ]
  },
  {
   "cell_type": "code",
   "execution_count": 5,
   "id": "fcabd07d",
   "metadata": {},
   "outputs": [
    {
     "name": "stdout",
     "output_type": "stream",
     "text": [
      "<class 'str'>\n",
      "Megha's phone number is 04489000\n"
     ]
    }
   ],
   "source": [
    "x=\"Megha's phone number is 04489000\"\n",
    "print(type(x))\n",
    "print(x)"
   ]
  },
  {
   "cell_type": "markdown",
   "id": "2641cf9d",
   "metadata": {},
   "source": [
    "How you can define string inside the python. \n",
    "Ans:-anything or any combination of characters inside the inverted commas\n",
    "is considered as string."
   ]
  },
  {
   "cell_type": "code",
   "execution_count": 6,
   "id": "9795bec7",
   "metadata": {},
   "outputs": [
    {
     "name": "stdout",
     "output_type": "stream",
     "text": [
      "<class 'list'>\n",
      "['My class', 10, 10.0]\n"
     ]
    }
   ],
   "source": [
    "    x=[\"My class\",10,10.0]\n",
    "    print(type(x))\n",
    "    print(x)"
   ]
  },
  {
   "cell_type": "code",
   "execution_count": 7,
   "id": "b8101d6a",
   "metadata": {},
   "outputs": [
    {
     "name": "stdout",
     "output_type": "stream",
     "text": [
      "<class 'tuple'>\n",
      "('My class', 10, 10.0)\n"
     ]
    }
   ],
   "source": [
    "x=(\"My class\",10,10.0)\n",
    "print(type(x))\n",
    "print(x)"
   ]
  },
  {
   "cell_type": "code",
   "execution_count": 8,
   "id": "06f0fe70",
   "metadata": {},
   "outputs": [
    {
     "name": "stdout",
     "output_type": "stream",
     "text": [
      "<class 'set'>\n",
      "{1, 2, 3, 10, 'My class'}\n"
     ]
    }
   ],
   "source": [
    "x={\"My class\",10,10,10,1,2,3,10}\n",
    "print(type(x))\n",
    "print(x)"
   ]
  },
  {
   "cell_type": "code",
   "execution_count": 9,
   "id": "1b205c04",
   "metadata": {},
   "outputs": [
    {
     "data": {
      "text/plain": [
       "65"
      ]
     },
     "execution_count": 9,
     "metadata": {},
     "output_type": "execute_result"
    }
   ],
   "source": [
    "ord(\"A\")"
   ]
  },
  {
   "cell_type": "code",
   "execution_count": 10,
   "id": "3edfa096",
   "metadata": {},
   "outputs": [
    {
     "data": {
      "text/plain": [
       "66"
      ]
     },
     "execution_count": 10,
     "metadata": {},
     "output_type": "execute_result"
    }
   ],
   "source": [
    "ord(\"B\")"
   ]
  },
  {
   "cell_type": "code",
   "execution_count": 11,
   "id": "bfcb1c4e",
   "metadata": {},
   "outputs": [
    {
     "data": {
      "text/plain": [
       "67"
      ]
     },
     "execution_count": 11,
     "metadata": {},
     "output_type": "execute_result"
    }
   ],
   "source": [
    "ord(\"C\")"
   ]
  },
  {
   "cell_type": "code",
   "execution_count": 12,
   "id": "12812937",
   "metadata": {},
   "outputs": [
    {
     "name": "stdout",
     "output_type": "stream",
     "text": [
      "<class 'dict'>\n",
      "{'python': 4, 'Megha': 6}\n",
      "<class 'dict'>\n",
      "{5: 'Pyhton', 6: 'Megha'}\n"
     ]
    }
   ],
   "source": [
    "x={\"python\":4,\"Megha\":6}\n",
    "y={5:\"Pyhton\",6:\"Megha\"}\n",
    "print(type(x))\n",
    "print(x)\n",
    "print(type(y))\n",
    "print(y)"
   ]
  },
  {
   "cell_type": "code",
   "execution_count": 13,
   "id": "6b2ae34d",
   "metadata": {},
   "outputs": [
    {
     "name": "stdout",
     "output_type": "stream",
     "text": [
      "<class 'int'>\n"
     ]
    }
   ],
   "source": [
    "y=10\n",
    "print(type(y))"
   ]
  },
  {
   "cell_type": "markdown",
   "id": "b139904f",
   "metadata": {},
   "source": [
    "Mutability and Immutability:\n",
    "    Mutable: It means you can edit the data or values inside the defined data type.( Editable data types)\n",
    "                example: List,Sets,Dict,int,float\n",
    "    Immutabe:It means you can not edit the data or values inside the defined data types.(Uneditable data type)\n",
    "                example: String,tuple"
   ]
  },
  {
   "cell_type": "code",
   "execution_count": 14,
   "id": "eb1564f5",
   "metadata": {},
   "outputs": [
    {
     "ename": "TypeError",
     "evalue": "unsupported operand type(s) for //: 'list' and 'type'",
     "output_type": "error",
     "traceback": [
      "\u001b[0;31m---------------------------------------------------------------------------\u001b[0m",
      "\u001b[0;31mTypeError\u001b[0m                                 Traceback (most recent call last)",
      "\u001b[0;32m<ipython-input-14-39a68169efc0>\u001b[0m in \u001b[0;36m<module>\u001b[0;34m\u001b[0m\n\u001b[0;32m----> 1\u001b[0;31m \u001b[0ma\u001b[0m\u001b[0;34m=\u001b[0m\u001b[0;34m[\u001b[0m\u001b[0;36m1\u001b[0m\u001b[0;34m,\u001b[0m\u001b[0;36m2\u001b[0m\u001b[0;34m,\u001b[0m\u001b[0;36m3\u001b[0m\u001b[0;34m,\u001b[0m\u001b[0;36m4\u001b[0m\u001b[0;34m,\u001b[0m\u001b[0;36m5\u001b[0m\u001b[0;34m]\u001b[0m  \u001b[0;34m//\u001b[0m\u001b[0mlist\u001b[0m\u001b[0;34m\u001b[0m\u001b[0;34m\u001b[0m\u001b[0m\n\u001b[0m\u001b[1;32m      2\u001b[0m \u001b[0mb\u001b[0m\u001b[0;34m=\u001b[0m\u001b[0;34m(\u001b[0m\u001b[0;36m3\u001b[0m\u001b[0;34m,\u001b[0m\u001b[0;36m4\u001b[0m\u001b[0;34m,\u001b[0m\u001b[0;34m\"megha\"\u001b[0m\u001b[0;34m,\u001b[0m\u001b[0;34m\"heya\"\u001b[0m\u001b[0;34m)\u001b[0m  \u001b[0;34m//\u001b[0m\u001b[0mtuple\u001b[0m\u001b[0;34m\u001b[0m\u001b[0;34m\u001b[0m\u001b[0m\n\u001b[1;32m      3\u001b[0m \u001b[0mc\u001b[0m\u001b[0;34m=\u001b[0m\u001b[0;34m{\u001b[0m\u001b[0;34m\"hello\"\u001b[0m\u001b[0;34m,\u001b[0m\u001b[0;34m\"peekaboo\"\u001b[0m\u001b[0;34m,\u001b[0m\u001b[0;34m\"hello\"\u001b[0m\u001b[0;34m}\u001b[0m \u001b[0;34m//\u001b[0m\u001b[0msets\u001b[0m\u001b[0;34m\u001b[0m\u001b[0;34m\u001b[0m\u001b[0m\n\u001b[1;32m      4\u001b[0m \u001b[0md\u001b[0m\u001b[0;34m=\u001b[0m\u001b[0;34m{\u001b[0m\u001b[0;34m\"pyhton\"\u001b[0m\u001b[0;34m:\u001b[0m\u001b[0;36m4\u001b[0m\u001b[0;34m,\u001b[0m\u001b[0;34m\"java\"\u001b[0m\u001b[0;34m:\u001b[0m\u001b[0;36m5\u001b[0m\u001b[0;34m}\u001b[0m \u001b[0;34m//\u001b[0m\u001b[0mdict\u001b[0m\u001b[0;34m\u001b[0m\u001b[0;34m\u001b[0m\u001b[0m\n\u001b[1;32m      5\u001b[0m \u001b[0mh\u001b[0m\u001b[0;34m=\u001b[0m\u001b[0;34m\"hello my class. Hoe are you people?\"\u001b[0m \u001b[0;34m//\u001b[0m\u001b[0mstring\u001b[0m\u001b[0;34m\u001b[0m\u001b[0;34m\u001b[0m\u001b[0m\n",
      "\u001b[0;31mTypeError\u001b[0m: unsupported operand type(s) for //: 'list' and 'type'"
     ]
    }
   ],
   "source": [
    "a=[1,2,3,4,5]  //list\n",
    "b=(3,4,\"megha\",\"heya\")  //tuple\n",
    "c={\"hello\",\"peekaboo\",\"hello\"} //sets\n",
    "d={\"pyhton\":4,\"java\":5} //dict\n",
    "h=\"hello my class. Hoe are you people?\" //string\n"
   ]
  },
  {
   "cell_type": "code",
   "execution_count": null,
   "id": "f33f5fe7",
   "metadata": {},
   "outputs": [],
   "source": [
    "c={\"hello\",\"peekaboo\",\"hello\"} \n",
    "print(c)"
   ]
  },
  {
   "cell_type": "code",
   "execution_count": null,
   "id": "531fc340",
   "metadata": {},
   "outputs": [],
   "source": [
    "a=[1,2,3,4,5] \n",
    "a[1]=\"megha\"\n",
    "print(a)"
   ]
  },
  {
   "cell_type": "code",
   "execution_count": null,
   "id": "7fca676d",
   "metadata": {},
   "outputs": [],
   "source": [
    "h=\"hello my class. How are you people?\"\n",
    "h[1]=\"a\"\n",
    "print(h)"
   ]
  },
  {
   "cell_type": "code",
   "execution_count": null,
   "id": "faf99c23",
   "metadata": {},
   "outputs": [],
   "source": [
    "b=(3,4,\"megha\",\"heya\")\n",
    "b[1]=5\n",
    "print(b)"
   ]
  },
  {
   "cell_type": "code",
   "execution_count": null,
   "id": "c8e3edc8",
   "metadata": {},
   "outputs": [],
   "source": [
    "c={\"hello\",\"peekaboo\",\"hello\",\"Neha\"}\n",
    "print(c)\n",
    "c.discard(\"peekaboo\")\n",
    "print(c)\n",
    "c.add(\"Megha\")\n",
    "print(c)\n",
    "\n"
   ]
  },
  {
   "cell_type": "code",
   "execution_count": null,
   "id": "7069a0e6",
   "metadata": {},
   "outputs": [],
   "source": [
    "d={\"python\":4,\"java\":5}\n",
    "print(d[\"java\"])\n",
    "d.update({\"help\":87})\n",
    "print(d)"
   ]
  },
  {
   "cell_type": "code",
   "execution_count": null,
   "id": "40f76bac",
   "metadata": {},
   "outputs": [],
   "source": [
    "d={\"python\":4,\"java\":5,\"python\":67}\n",
    "print(d)"
   ]
  },
  {
   "cell_type": "markdown",
   "id": "e5818da4",
   "metadata": {},
   "source": [
    "Keys inside the dictionaries are:\n",
    "    1. unique\n",
    "    2. immutable\n",
    "Values in dictionary can be duplicate and can be edited."
   ]
  },
  {
   "cell_type": "code",
   "execution_count": null,
   "id": "c4dea2ea",
   "metadata": {},
   "outputs": [],
   "source": [
    "d={5:\"megha\",6:\"megha\"}\n",
    "print(d)\n",
    "d[5]=\"xyz\"\n",
    "print(d)\n",
    "d[6]=\"xyz\"\n",
    "print(d)"
   ]
  },
  {
   "cell_type": "markdown",
   "id": "49500376",
   "metadata": {},
   "source": [
    "WHAT AMONGST THE LIST AND TUPLE CAN BE CONSIDERED AS A KEY IN DICTIONARY?\n",
    "TUPLE"
   ]
  },
  {
   "cell_type": "markdown",
   "id": "3dbceb66",
   "metadata": {},
   "source": [
    "TYPECASTING OR DATA TYPE CONVERSION.\n",
    "Converting a data type into another data type.\n",
    "there are certain data types which gets typecasted not every data type."
   ]
  },
  {
   "cell_type": "code",
   "execution_count": null,
   "id": "f9d1ed4f",
   "metadata": {},
   "outputs": [],
   "source": [
    "kaustubh=[\"Neha\",\"Vaidehi\",\"Sourabh\",\"Paras\"]\n",
    "print(type(kaustubh))\n",
    "kaustubh[0]=\"megha\"     #list to tuple\n",
    "print(kaustubh)\n",
    "b=tuple(kaustubh)\n",
    "print(type(b))\n",
    "print(b)\n",
    "b[0]=\"Neha\"\n",
    "print(b)"
   ]
  },
  {
   "cell_type": "code",
   "execution_count": null,
   "id": "90b9d19f",
   "metadata": {},
   "outputs": [],
   "source": [
    "xyz=(1,2,[\"manish\",\"megha\"])\n",
    "b=list(xyz)\n",
    "print(type(b))   #tuple to list\n",
    "b[2]=\"megha\"\n",
    "print(b)"
   ]
  },
  {
   "cell_type": "code",
   "execution_count": null,
   "id": "70d4099f",
   "metadata": {},
   "outputs": [],
   "source": [
    "xyz=[1,2,[\"manish\",\"megha\"]]\n",
    "re=len(xyz)\n",
    "print(re)"
   ]
  },
  {
   "cell_type": "code",
   "execution_count": null,
   "id": "966c6a5a",
   "metadata": {},
   "outputs": [],
   "source": [
    "x=4  #x is 4 here\n",
    "print(type(x))\n",
    "x=5   #x is 5 here\n",
    "print(x)"
   ]
  },
  {
   "cell_type": "code",
   "execution_count": null,
   "id": "6ed93934",
   "metadata": {},
   "outputs": [],
   "source": [
    "y=2.1 #y is 2.1 here\n",
    "print(type(y))\n",
    "print(y)\n",
    "y=5.3 #y is 5.3 here\n",
    "print(y)"
   ]
  },
  {
   "cell_type": "code",
   "execution_count": null,
   "id": "5e5409d8",
   "metadata": {},
   "outputs": [],
   "source": [
    "r=\"Hey I am here\"  #string will follow indexing in the global frame but not on objects.\n",
    "y=r[0]\n",
    "print(y)"
   ]
  },
  {
   "cell_type": "code",
   "execution_count": null,
   "id": "3ed876d5",
   "metadata": {},
   "outputs": [],
   "source": [
    "#sets to list typecasting:\n",
    "\n",
    "abc={\"apple\",\"Mango\",\"Banana\",\"Papaya\",\"Mango\"}\n",
    "print(type(abc))\n",
    "xyz=list(abc)\n",
    "print(type(xyz))\n"
   ]
  },
  {
   "cell_type": "code",
   "execution_count": 17,
   "id": "fb05fc93",
   "metadata": {},
   "outputs": [
    {
     "name": "stdout",
     "output_type": "stream",
     "text": [
      "<class 'list'>\n",
      "<class 'set'>\n",
      "{'apple', 'Mango', 'Papaya', 'Banana'}\n"
     ]
    }
   ],
   "source": [
    "#list to sets typecasting:\n",
    "abc=[\"apple\",\"Mango\",\"Banana\",\"Papaya\",\"Mango\"]\n",
    "print(type(abc))\n",
    "pqr=set(abc)\n",
    "print(type(pqr))\n",
    "print(pqr)"
   ]
  },
  {
   "cell_type": "code",
   "execution_count": null,
   "id": "dda2797d",
   "metadata": {},
   "outputs": [],
   "source": [
    " typecast string into the list??\n",
    "    2 minutes"
   ]
  },
  {
   "cell_type": "code",
   "execution_count": 19,
   "id": "d1faeceb",
   "metadata": {},
   "outputs": [
    {
     "name": "stdout",
     "output_type": "stream",
     "text": [
      "['p', 'a', 'r', 'a', 's', ' ', 'b', 'a', 'j', 'a', 'j']\n"
     ]
    }
   ],
   "source": [
    "xyz=\"paras bajaj\"\n",
    "abc=list(xyz)\n",
    "print(abc)"
   ]
  },
  {
   "cell_type": "code",
   "execution_count": 20,
   "id": "9b39f862",
   "metadata": {},
   "outputs": [
    {
     "name": "stdout",
     "output_type": "stream",
     "text": [
      "[\"'\", 'm', 'y', \"'\", ' ', \"'\", 'n', 'a', 'm', 'e', \"'\", ' ', \"'\", 'i', 's', \"'\", ' ', \"'\", 's', 't', 'u', 't', 'i', \"'\"]\n"
     ]
    }
   ],
   "source": [
    "st= \"'my' 'name' 'is' 'stuti'\"\n",
    "lst= list(st)\n",
    "print (lst)"
   ]
  },
  {
   "cell_type": "code",
   "execution_count": 21,
   "id": "4caf6c6e",
   "metadata": {},
   "outputs": [
    {
     "name": "stdout",
     "output_type": "stream",
     "text": [
      "<class 'str'>\n",
      "<class 'list'>\n"
     ]
    }
   ],
   "source": [
    "str1=\"Online, offline\"\n",
    "print(type(str1))\n",
    "lst1=list(str1)\n",
    "print(type(lst1))"
   ]
  },
  {
   "cell_type": "code",
   "execution_count": 26,
   "id": "b0723e2f",
   "metadata": {},
   "outputs": [
    {
     "name": "stdout",
     "output_type": "stream",
     "text": [
      "['Elizabeth', '4', 'was', 'the', 'greatest', 'amongst', 'all', 'the', 'queens.']\n"
     ]
    }
   ],
   "source": [
    "#[\"my\",\"name\"]\n",
    "# .split function helps to split the words in the string also typecast it into the list.\n",
    "queen=\"Elizabeth-4-was-the-greatest-amongst-all-the-queens.\"\n",
    "filtered=queen.split(\"-\")\n",
    "print(filtered)"
   ]
  },
  {
   "cell_type": "code",
   "execution_count": 27,
   "id": "e91b4373",
   "metadata": {},
   "outputs": [
    {
     "name": "stdout",
     "output_type": "stream",
     "text": [
      "['louis', 'philip', 'was', 'the', 'brutal', 'among', 'all']\n"
     ]
    }
   ],
   "source": [
    "v=\"Louis#Phillipe#4#was#the#brutal#king#amonst#all.\"\n",
    "v=\"louis#philip#was#the#brutal#among#all\"\n",
    "i=v.split(\"#\")\n",
    "print(i)"
   ]
  },
  {
   "cell_type": "code",
   "execution_count": 28,
   "id": "555b4e68",
   "metadata": {},
   "outputs": [
    {
     "name": "stdout",
     "output_type": "stream",
     "text": [
      "<class 'set'>\n",
      "<class 'tuple'>\n"
     ]
    }
   ],
   "source": [
    "#set to tuple\n",
    "x={1,2,3,4,5,5}\n",
    "print(type(x))\n",
    "y=tuple(x)\n",
    "print(type(y))"
   ]
  },
  {
   "cell_type": "code",
   "execution_count": 30,
   "id": "324ee728",
   "metadata": {},
   "outputs": [
    {
     "name": "stdout",
     "output_type": "stream",
     "text": [
      "<class 'set'>\n"
     ]
    }
   ],
   "source": [
    "#tuple to set\n",
    "xyz=(1,2,3,4,5,5)\n",
    "p=set(xyz)\n",
    "print(type(p))\n"
   ]
  },
  {
   "cell_type": "code",
   "execution_count": 31,
   "id": "6fc9d6d0",
   "metadata": {},
   "outputs": [
    {
     "name": "stdout",
     "output_type": "stream",
     "text": [
      "6\n"
     ]
    }
   ],
   "source": [
    "list1=[1,2,3,4,5,6]\n",
    "x=list1[-1]\n",
    "print(x)"
   ]
  },
  {
   "cell_type": "code",
   "execution_count": 34,
   "id": "0d42c71e",
   "metadata": {},
   "outputs": [
    {
     "name": "stdout",
     "output_type": "stream",
     "text": [
      "[1, 2, 3, 4, 76, 789, 78]\n"
     ]
    }
   ],
   "source": [
    "x=[1,2,3,4]\n",
    "y=[76,789,78]\n",
    "z=x+y\n",
    "print(z)"
   ]
  },
  {
   "cell_type": "markdown",
   "id": "afd6db5a",
   "metadata": {},
   "source": [
    "SLICING:\n",
    "SLICING IS NOTHING BUT CUTTING THE ELEMENTS INSIDE THE LIST OR TUPLE OR DICT:\n",
    " \n",
    " \n",
    " SYNTAX:\n",
    "   [STARTING POSITION:ENDNG POSITION:STRIDE]"
   ]
  },
  {
   "cell_type": "code",
   "execution_count": 37,
   "id": "88d3b361",
   "metadata": {},
   "outputs": [
    {
     "name": "stdout",
     "output_type": "stream",
     "text": [
      "[3]\n"
     ]
    }
   ],
   "source": [
    "LIST2=[1,2,3,4,5]\n",
    "POST=LIST2[2:3]\n",
    "print(POST)"
   ]
  },
  {
   "cell_type": "code",
   "execution_count": 38,
   "id": "2896d288",
   "metadata": {},
   "outputs": [
    {
     "name": "stdout",
     "output_type": "stream",
     "text": [
      "('Chikoo', 'Dragon fruit')\n"
     ]
    }
   ],
   "source": [
    "fruits=(\"Chikoo\",\"Dragon fruit\",\"Melon\")\n",
    "c=fruits[0:2]\n",
    "print(c)"
   ]
  },
  {
   "cell_type": "code",
   "execution_count": 39,
   "id": "d4bfda4a",
   "metadata": {},
   "outputs": [
    {
     "ename": "TypeError",
     "evalue": "'set' object is not subscriptable",
     "output_type": "error",
     "traceback": [
      "\u001b[0;31m---------------------------------------------------------------------------\u001b[0m",
      "\u001b[0;31mTypeError\u001b[0m                                 Traceback (most recent call last)",
      "\u001b[0;32m<ipython-input-39-b4a7ec95aeb2>\u001b[0m in \u001b[0;36m<module>\u001b[0;34m\u001b[0m\n\u001b[1;32m      1\u001b[0m \u001b[0mfruits\u001b[0m\u001b[0;34m=\u001b[0m\u001b[0;34m{\u001b[0m\u001b[0;34m\"Chikoo\"\u001b[0m\u001b[0;34m,\u001b[0m\u001b[0;34m\"Dragon fruit\"\u001b[0m\u001b[0;34m,\u001b[0m\u001b[0;34m\"Melon\"\u001b[0m\u001b[0;34m}\u001b[0m\u001b[0;34m\u001b[0m\u001b[0;34m\u001b[0m\u001b[0m\n\u001b[0;32m----> 2\u001b[0;31m \u001b[0mc\u001b[0m\u001b[0;34m=\u001b[0m\u001b[0mfruits\u001b[0m\u001b[0;34m[\u001b[0m\u001b[0;36m0\u001b[0m\u001b[0;34m:\u001b[0m\u001b[0;36m2\u001b[0m\u001b[0;34m]\u001b[0m\u001b[0;34m\u001b[0m\u001b[0;34m\u001b[0m\u001b[0m\n\u001b[0m\u001b[1;32m      3\u001b[0m \u001b[0mprint\u001b[0m\u001b[0;34m(\u001b[0m\u001b[0mc\u001b[0m\u001b[0;34m)\u001b[0m\u001b[0;34m\u001b[0m\u001b[0;34m\u001b[0m\u001b[0m\n",
      "\u001b[0;31mTypeError\u001b[0m: 'set' object is not subscriptable"
     ]
    }
   ],
   "source": [
    "fruits={\"Chikoo\",\"Dragon fruit\",\"Melon\"}\n",
    "c=fruits[0:2]\n",
    "print(c)"
   ]
  },
  {
   "cell_type": "code",
   "execution_count": 40,
   "id": "0f6302c9",
   "metadata": {},
   "outputs": [
    {
     "ename": "TypeError",
     "evalue": "unhashable type: 'slice'",
     "output_type": "error",
     "traceback": [
      "\u001b[0;31m---------------------------------------------------------------------------\u001b[0m",
      "\u001b[0;31mTypeError\u001b[0m                                 Traceback (most recent call last)",
      "\u001b[0;32m<ipython-input-40-cd1c31ec2f12>\u001b[0m in \u001b[0;36m<module>\u001b[0;34m\u001b[0m\n\u001b[1;32m      1\u001b[0m \u001b[0mfruits\u001b[0m\u001b[0;34m=\u001b[0m\u001b[0;34m{\u001b[0m\u001b[0;34m\"Chikoo\"\u001b[0m\u001b[0;34m:\u001b[0m\u001b[0;36m5\u001b[0m\u001b[0;34m,\u001b[0m\u001b[0;34m\"Dragon fruit\"\u001b[0m\u001b[0;34m:\u001b[0m\u001b[0;36m10\u001b[0m\u001b[0;34m,\u001b[0m\u001b[0;34m\"Melon\"\u001b[0m\u001b[0;34m:\u001b[0m\u001b[0;36m2\u001b[0m\u001b[0;34m}\u001b[0m\u001b[0;34m\u001b[0m\u001b[0;34m\u001b[0m\u001b[0m\n\u001b[0;32m----> 2\u001b[0;31m \u001b[0mc\u001b[0m\u001b[0;34m=\u001b[0m\u001b[0mfruits\u001b[0m\u001b[0;34m[\u001b[0m\u001b[0;36m0\u001b[0m\u001b[0;34m:\u001b[0m\u001b[0;36m2\u001b[0m\u001b[0;34m]\u001b[0m\u001b[0;34m\u001b[0m\u001b[0;34m\u001b[0m\u001b[0m\n\u001b[0m\u001b[1;32m      3\u001b[0m \u001b[0mprint\u001b[0m\u001b[0;34m(\u001b[0m\u001b[0mc\u001b[0m\u001b[0;34m)\u001b[0m\u001b[0;34m\u001b[0m\u001b[0;34m\u001b[0m\u001b[0m\n",
      "\u001b[0;31mTypeError\u001b[0m: unhashable type: 'slice'"
     ]
    }
   ],
   "source": [
    "fruits={\"Chikoo\":5,\"Dragon fruit\":10,\"Melon\":2}\n",
    "c=fruits[0:2]\n",
    "print(c)"
   ]
  },
  {
   "cell_type": "code",
   "execution_count": 5,
   "id": "67fe576d",
   "metadata": {},
   "outputs": [
    {
     "name": "stdout",
     "output_type": "stream",
     "text": [
      "['Chikoo', 'apple']\n"
     ]
    }
   ],
   "source": [
    "fruits=[\"Chikoo\",\"Dragon fruit\",\"Melon\",\"orange\",\"apple\",\"coconut\"]\n",
    "c=fruits[0:6:4]\n",
    "print(c)"
   ]
  },
  {
   "cell_type": "code",
   "execution_count": 12,
   "id": "cecd8f98",
   "metadata": {},
   "outputs": [
    {
     "name": "stdout",
     "output_type": "stream",
     "text": [
      "['coconut', 'apple', 'orange', 'Melon', 'Dragon fruit']\n"
     ]
    }
   ],
   "source": [
    "fruits=[\"Chikoo\",\"Dragon fruit\",\"Melon\",\"orange\",\"apple\",\"coconut\"]\n",
    "c=fruits[6:0:-1]\n",
    "print(c)"
   ]
  },
  {
   "cell_type": "markdown",
   "id": "842c73f9",
   "metadata": {},
   "source": [
    "How to take input from user in python?\n",
    "\n"
   ]
  },
  {
   "cell_type": "code",
   "execution_count": 17,
   "id": "eff71c4e",
   "metadata": {},
   "outputs": [
    {
     "name": "stdout",
     "output_type": "stream",
     "text": [
      "10\n",
      "20\n",
      "<class 'str'>\n",
      "1020\n"
     ]
    }
   ],
   "source": [
    "x=input()\n",
    "y=input()\n",
    "print(type(x))\n",
    "abc=x+y\n",
    "print(abc)"
   ]
  },
  {
   "cell_type": "code",
   "execution_count": 18,
   "id": "4bf0b3ca",
   "metadata": {},
   "outputs": [
    {
     "name": "stdout",
     "output_type": "stream",
     "text": [
      "20\n",
      "20\n",
      "<class 'int'>\n",
      "40\n"
     ]
    }
   ],
   "source": [
    "x=int(input())\n",
    "y=int(input())\n",
    "print(type(x))\n",
    "abc=x+y\n",
    "print(abc)"
   ]
  },
  {
   "cell_type": "code",
   "execution_count": null,
   "id": "606a19cc",
   "metadata": {},
   "outputs": [],
   "source": []
  }
 ],
 "metadata": {
  "kernelspec": {
   "display_name": "Python 3",
   "language": "python",
   "name": "python3"
  },
  "language_info": {
   "codemirror_mode": {
    "name": "ipython",
    "version": 3
   },
   "file_extension": ".py",
   "mimetype": "text/x-python",
   "name": "python",
   "nbconvert_exporter": "python",
   "pygments_lexer": "ipython3",
   "version": "3.8.8"
  }
 },
 "nbformat": 4,
 "nbformat_minor": 5
}
