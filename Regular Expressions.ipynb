{
 "cells": [
  {
   "cell_type": "code",
   "execution_count": 1,
   "id": "d8d25b03",
   "metadata": {},
   "outputs": [
    {
     "ename": "SyntaxError",
     "evalue": "invalid syntax (<ipython-input-1-48a17f90acfc>, line 1)",
     "output_type": "error",
     "traceback": [
      "\u001b[0;36m  File \u001b[0;32m\"<ipython-input-1-48a17f90acfc>\"\u001b[0;36m, line \u001b[0;32m1\u001b[0m\n\u001b[0;31m    Regular Expressions:\u001b[0m\n\u001b[0m            ^\u001b[0m\n\u001b[0;31mSyntaxError\u001b[0m\u001b[0;31m:\u001b[0m invalid syntax\n"
     ]
    }
   ],
   "source": [
    "Regular Expressions:\n",
    "    WHAT IS REGULAR EXPRESSIONS?\n",
    "    It is string containing some set of rules to match or define particular pattern.\n",
    "    Everything around regular expressions is put inside a module named as \"re\" in python.\n",
    "    \n",
    "re.search=> 1.matches the first pattern according to the regx inside the string and returns a match object with info.\n",
    "            2.finds the regx  first occurence in the text when we are moving left to right.\n",
    "            3.if there is no no. of occurence then it will print nothing.\n",
    "            4.Of occurences then it returns the match along.\n",
    "            5.it matches the pattern at any position until the pattern gets break.\n",
    "re.findall=> matches the every element according to the regx insode the string and returns the list matched.\n",
    "\n",
    "What does regular expressions do?\n",
    "pattern matching\n",
    "pattern extraction\n",
    "string matching and finding \n",
    "\n",
    "\n",
    "#Metacharacters\n",
    "\".\"= matches with all the characters(alphabets,digits,special char etc)except the new line.Single dot means single char and \n",
    "that char could be anything mentioned above.\n",
    "\n",
    "[A-Z]=> All capital letters alphabet from A to Z (single occurence)\n",
    "[a-z]=> Small alphabets from a to z (single occurence)\n",
    "[0-9]=>digits matching \n",
    "[!-*]=>special characters\n",
    "\n",
    "#quantifiers:\n",
    "\"+\"=>one or more occurence\n",
    "\"*\"=> zero or more occrence \n",
    "\"?\"=> OPtional either once or not at all\n",
    "\n",
    "#anchors\n",
    "\"^\"=> starting of the string\n",
    "\"$\"=>end of the string\n",
    "\n",
    "\n",
    "#counting stuff\n",
    "{}= it is nothing but couting the occurence.\n",
    "\n",
    "\n",
    "[0-9]{2} and ^[0-9][0-9]= start of the string should be a single didgit no and then it should be follwer by a single digits.\n",
    "and both the patterns are same.\n",
    "\n",
    "[^]=complement= is nothing but reversal.\n"
   ]
  },
  {
   "cell_type": "code",
   "execution_count": 3,
   "id": "479ade6b",
   "metadata": {},
   "outputs": [],
   "source": [
    "import re"
   ]
  },
  {
   "cell_type": "code",
   "execution_count": 4,
   "id": "c3fc8217",
   "metadata": {},
   "outputs": [
    {
     "name": "stdout",
     "output_type": "stream",
     "text": [
      "<re.Match object; span=(0, 1), match='M'>\n"
     ]
    }
   ],
   "source": [
    "x=\".\" #regular expression\n",
    "print(re.search(x,\"Mango juice\"))"
   ]
  },
  {
   "cell_type": "code",
   "execution_count": 5,
   "id": "14dbff78",
   "metadata": {},
   "outputs": [
    {
     "ename": "SyntaxError",
     "evalue": "invalid syntax (<ipython-input-5-9cdd5b6ae60f>, line 1)",
     "output_type": "error",
     "traceback": [
      "\u001b[0;36m  File \u001b[0;32m\"<ipython-input-5-9cdd5b6ae60f>\"\u001b[0;36m, line \u001b[0;32m1\u001b[0m\n\u001b[0;31m    Syntax:\u001b[0m\n\u001b[0m           ^\u001b[0m\n\u001b[0;31mSyntaxError\u001b[0m\u001b[0;31m:\u001b[0m invalid syntax\n"
     ]
    }
   ],
   "source": [
    "Syntax:\n",
    "    regx=define your regx here\n",
    "    linnes of code or list of elements......\n",
    "    ........\n",
    "    ......\n",
    "    print(re.search/re.findall(regx,string))"
   ]
  },
  {
   "cell_type": "code",
   "execution_count": 6,
   "id": "8e937469",
   "metadata": {},
   "outputs": [
    {
     "name": "stdout",
     "output_type": "stream",
     "text": [
      "['M', 'a', 'n', 'g', 'o', ' ', 'j', 'u', 'i', 'c', 'e']\n"
     ]
    }
   ],
   "source": [
    "x=\".\" #regular expression\n",
    "print(re.findall(x,\"Mango juice\"))"
   ]
  },
  {
   "cell_type": "code",
   "execution_count": 7,
   "id": "e019952e",
   "metadata": {},
   "outputs": [
    {
     "name": "stdout",
     "output_type": "stream",
     "text": [
      "<re.Match object; span=(0, 1), match='A'>\n",
      "None\n",
      "<re.Match object; span=(2, 3), match='T'>\n",
      "<re.Match object; span=(4, 5), match='A'>\n"
     ]
    }
   ],
   "source": [
    "regx=\"[A-Z]\"\n",
    "list_of_strings=[\"Apple\",\"boy\",\"caTTTYYY\",\"meghAA\"]\n",
    "for words in list_of_strings:\n",
    "    print(re.search(regx,words))"
   ]
  },
  {
   "cell_type": "code",
   "execution_count": 8,
   "id": "95107762",
   "metadata": {},
   "outputs": [
    {
     "name": "stdout",
     "output_type": "stream",
     "text": [
      "['A', 'P']\n",
      "[]\n",
      "['C', 'T']\n",
      "['A', 'A']\n"
     ]
    }
   ],
   "source": [
    "regx=\"[A-Z]\"\n",
    "list_of_strings=[\"APple\",\"boy\",\"CaT\",\"meghAA\"]\n",
    "for words in list_of_strings:\n",
    "    print(re.findall(regx,words))"
   ]
  },
  {
   "cell_type": "code",
   "execution_count": 9,
   "id": "4204e856",
   "metadata": {},
   "outputs": [
    {
     "name": "stdout",
     "output_type": "stream",
     "text": [
      "['p', 'l', 'e']\n",
      "['b', 'o', 'y']\n",
      "['a']\n",
      "['m', 'e', 'g', 'h']\n"
     ]
    }
   ],
   "source": [
    "regx=\"[a-z]\"\n",
    "list_of_strings=[\"APple\",\"boy\",\"CaT\",\"meghAA\"]\n",
    "for words in list_of_strings:\n",
    "    print(re.findall(regx,words))"
   ]
  },
  {
   "cell_type": "code",
   "execution_count": 10,
   "id": "740f6f64",
   "metadata": {},
   "outputs": [
    {
     "name": "stdout",
     "output_type": "stream",
     "text": [
      "<re.Match object; span=(2, 3), match='p'>\n",
      "<re.Match object; span=(0, 1), match='b'>\n",
      "<re.Match object; span=(1, 2), match='a'>\n",
      "<re.Match object; span=(0, 1), match='m'>\n"
     ]
    }
   ],
   "source": [
    "regx=\"[a-z]\"\n",
    "list_of_strings=[\"APple\",\"boy\",\"CaT\",\"meghAA\"]\n",
    "for words in list_of_strings:\n",
    "    print(re.search(regx,words))"
   ]
  },
  {
   "cell_type": "code",
   "execution_count": 11,
   "id": "68b06e0e",
   "metadata": {},
   "outputs": [
    {
     "name": "stdout",
     "output_type": "stream",
     "text": [
      "None\n",
      "None\n",
      "None\n",
      "None\n",
      "<re.Match object; span=(0, 1), match='6'>\n",
      "<re.Match object; span=(0, 1), match='6'>\n"
     ]
    }
   ],
   "source": [
    "regx=\"[0-9]\"\n",
    "list_of_strings=[\"APple\",\"boy\",\"CaT\",\"meghAA\",\"67\",\"677768698\"]\n",
    "for words in list_of_strings:\n",
    "    print(re.search(regx,words))"
   ]
  },
  {
   "cell_type": "code",
   "execution_count": 12,
   "id": "4c3d5be4",
   "metadata": {
    "scrolled": true
   },
   "outputs": [
    {
     "name": "stdout",
     "output_type": "stream",
     "text": [
      "[]\n",
      "[]\n",
      "[]\n",
      "[]\n",
      "['6', '7']\n",
      "['6', '7', '7', '7', '6', '8', '6', '9', '8']\n"
     ]
    }
   ],
   "source": [
    "regx=\"[0-9]\"\n",
    "list_of_strings=[\"APple\",\"boy\",\"CaT\",\"meghAA\",\"67\",\"677768698\"]\n",
    "for words in list_of_strings:\n",
    "    print(re.findall(regx,words))"
   ]
  },
  {
   "cell_type": "code",
   "execution_count": 13,
   "id": "b74c3a50",
   "metadata": {},
   "outputs": [
    {
     "name": "stdout",
     "output_type": "stream",
     "text": [
      "[]\n",
      "[]\n",
      "[]\n",
      "[]\n",
      "[]\n",
      "[]\n",
      "['$']\n"
     ]
    }
   ],
   "source": [
    "regx=\"[$]\"\n",
    "list_of_strings=[\"APple\",\"boy\",\"CaT\",\"meghAA\",\"67\",\"677768698\",\"$\"]\n",
    "for words in list_of_strings:\n",
    "    print(re.findall(regx,words))"
   ]
  },
  {
   "cell_type": "code",
   "execution_count": 14,
   "id": "fc378067",
   "metadata": {},
   "outputs": [
    {
     "name": "stdout",
     "output_type": "stream",
     "text": [
      "<re.Match object; span=(6, 8), match='ju'>\n"
     ]
    }
   ],
   "source": [
    "xyz=\"ju\"\n",
    "print(re.search(xyz,\"Mango juiceju\"))"
   ]
  },
  {
   "cell_type": "code",
   "execution_count": 15,
   "id": "bba2339e",
   "metadata": {},
   "outputs": [
    {
     "name": "stdout",
     "output_type": "stream",
     "text": [
      "['ju', 'ju']\n"
     ]
    }
   ],
   "source": [
    "xyz=\"ju\"\n",
    "print(re.findall(xyz,\"Mango juiceju\"))"
   ]
  },
  {
   "cell_type": "code",
   "execution_count": 16,
   "id": "c22f3e01",
   "metadata": {},
   "outputs": [
    {
     "name": "stdout",
     "output_type": "stream",
     "text": [
      "<re.Match object; span=(2, 3), match='p'>\n",
      "<re.Match object; span=(0, 1), match='b'>\n",
      "<re.Match object; span=(1, 2), match='a'>\n",
      "<re.Match object; span=(0, 1), match='m'>\n"
     ]
    }
   ],
   "source": [
    "regx=\"[a-z]\"\n",
    "list_of_strings=[\"APple\",\"boy\",\"CaT\",\"meghAA\"]\n",
    "for words in list_of_strings:\n",
    "    print(re.search(regx,words))"
   ]
  },
  {
   "cell_type": "code",
   "execution_count": 17,
   "id": "758bf034",
   "metadata": {},
   "outputs": [
    {
     "name": "stdout",
     "output_type": "stream",
     "text": [
      "<re.Match object; span=(0, 1), match='A'>\n",
      "<re.Match object; span=(0, 1), match='b'>\n",
      "<re.Match object; span=(0, 1), match='C'>\n",
      "<re.Match object; span=(0, 1), match='m'>\n"
     ]
    }
   ],
   "source": [
    "regx=\"[A-Za-z]\"\n",
    "list_of_strings=[\"APple\",\"boy\",\"CaT\",\"meghAA\"]\n",
    "for words in list_of_strings:\n",
    "    print(re.search(regx,words))"
   ]
  },
  {
   "cell_type": "code",
   "execution_count": 20,
   "id": "c129fa12",
   "metadata": {},
   "outputs": [
    {
     "name": "stdout",
     "output_type": "stream",
     "text": [
      "<re.Match object; span=(0, 1), match='A'>\n",
      "None\n",
      "<re.Match object; span=(0, 1), match='C'>\n",
      "<re.Match object; span=(0, 1), match='m'>\n",
      "<re.Match object; span=(1, 2), match='7'>\n",
      "None\n",
      "None\n"
     ]
    }
   ],
   "source": [
    "regx=\"[A-Zm-n7-9]\"\n",
    "list_of_strings=[\"APple\",\"boy\",\"CaT\",\"meghAA\",\"67\",\"66\",\"$\"]\n",
    "for words in list_of_strings:\n",
    "    print(re.search(regx,words))"
   ]
  },
  {
   "cell_type": "code",
   "execution_count": 31,
   "id": "edf456d2",
   "metadata": {},
   "outputs": [
    {
     "name": "stdout",
     "output_type": "stream",
     "text": [
      "<re.Match object; span=(0, 1), match='A'>\n",
      "<re.Match object; span=(0, 1), match='b'>\n",
      "<re.Match object; span=(0, 1), match='C'>\n",
      "<re.Match object; span=(0, 1), match='m'>\n",
      "None\n",
      "None\n",
      "<re.Match object; span=(0, 1), match='$'>\n",
      "<re.Match object; span=(0, 1), match='@'>\n",
      "<re.Match object; span=(9, 10), match='%'>\n"
     ]
    }
   ],
   "source": [
    "regx=\"[A-Za-z!-*@]\"\n",
    "list_of_strings=[\"APple\",\"boy\",\"CaT\",\"meghAA\",\"67\",\"66\",\"$\",\"@\",\"989809809%\"]\n",
    "for words in list_of_strings:\n",
    "    print(re.search(regx,words))"
   ]
  },
  {
   "cell_type": "code",
   "execution_count": 23,
   "id": "75c17a98",
   "metadata": {
    "scrolled": true
   },
   "outputs": [
    {
     "data": {
      "text/plain": [
       "64"
      ]
     },
     "execution_count": 23,
     "metadata": {},
     "output_type": "execute_result"
    }
   ],
   "source": [
    "ord(\"@\")"
   ]
  },
  {
   "cell_type": "code",
   "execution_count": 24,
   "id": "d2259740",
   "metadata": {},
   "outputs": [
    {
     "data": {
      "text/plain": [
       "33"
      ]
     },
     "execution_count": 24,
     "metadata": {},
     "output_type": "execute_result"
    }
   ],
   "source": [
    "ord(\"!\")"
   ]
  },
  {
   "cell_type": "code",
   "execution_count": 25,
   "id": "c0d3f572",
   "metadata": {},
   "outputs": [
    {
     "data": {
      "text/plain": [
       "35"
      ]
     },
     "execution_count": 25,
     "metadata": {},
     "output_type": "execute_result"
    }
   ],
   "source": [
    "ord(\"#\")"
   ]
  },
  {
   "cell_type": "code",
   "execution_count": 26,
   "id": "b9b032a6",
   "metadata": {},
   "outputs": [
    {
     "data": {
      "text/plain": [
       "36"
      ]
     },
     "execution_count": 26,
     "metadata": {},
     "output_type": "execute_result"
    }
   ],
   "source": [
    "ord(\"$\")"
   ]
  },
  {
   "cell_type": "code",
   "execution_count": 27,
   "id": "7af3f74d",
   "metadata": {},
   "outputs": [
    {
     "data": {
      "text/plain": [
       "37"
      ]
     },
     "execution_count": 27,
     "metadata": {},
     "output_type": "execute_result"
    }
   ],
   "source": [
    "ord(\"%\")"
   ]
  },
  {
   "cell_type": "code",
   "execution_count": 28,
   "id": "54013a65",
   "metadata": {},
   "outputs": [
    {
     "data": {
      "text/plain": [
       "94"
      ]
     },
     "execution_count": 28,
     "metadata": {},
     "output_type": "execute_result"
    }
   ],
   "source": [
    "ord(\"^\")"
   ]
  },
  {
   "cell_type": "code",
   "execution_count": 29,
   "id": "73d4f017",
   "metadata": {},
   "outputs": [
    {
     "data": {
      "text/plain": [
       "38"
      ]
     },
     "execution_count": 29,
     "metadata": {},
     "output_type": "execute_result"
    }
   ],
   "source": [
    "ord(\"&\")"
   ]
  },
  {
   "cell_type": "code",
   "execution_count": 30,
   "id": "3fd05b8b",
   "metadata": {},
   "outputs": [
    {
     "data": {
      "text/plain": [
       "42"
      ]
     },
     "execution_count": 30,
     "metadata": {},
     "output_type": "execute_result"
    }
   ],
   "source": [
    "ord(\"*\")"
   ]
  },
  {
   "cell_type": "code",
   "execution_count": 32,
   "id": "0e3c7d51",
   "metadata": {},
   "outputs": [
    {
     "data": {
      "text/plain": [
       "65"
      ]
     },
     "execution_count": 32,
     "metadata": {},
     "output_type": "execute_result"
    }
   ],
   "source": [
    "ord(\"A\")"
   ]
  },
  {
   "cell_type": "code",
   "execution_count": 35,
   "id": "f65ea41e",
   "metadata": {},
   "outputs": [
    {
     "name": "stdout",
     "output_type": "stream",
     "text": [
      "<re.Match object; span=(0, 5), match='APple'>\n",
      "<re.Match object; span=(0, 3), match='boy'>\n",
      "<re.Match object; span=(0, 3), match='CaT'>\n",
      "<re.Match object; span=(0, 6), match='meghAA'>\n",
      "<re.Match object; span=(0, 0), match=''>\n",
      "<re.Match object; span=(0, 0), match=''>\n",
      "<re.Match object; span=(0, 0), match=''>\n",
      "<re.Match object; span=(0, 0), match=''>\n",
      "<re.Match object; span=(0, 0), match=''>\n"
     ]
    }
   ],
   "source": [
    "regx=\"[A-Za-z]*\"\n",
    "list_of_strings=[\"APple\",\"boy\",\"CaT\",\"meghAA\",\"67\",\"66\",\"$\",\"@\",\"989809809%\"]\n",
    "for words in list_of_strings:\n",
    "    print(re.search(regx,words))"
   ]
  },
  {
   "cell_type": "code",
   "execution_count": 36,
   "id": "112b9d50",
   "metadata": {},
   "outputs": [
    {
     "name": "stdout",
     "output_type": "stream",
     "text": [
      "<re.Match object; span=(0, 5), match='APple'>\n",
      "<re.Match object; span=(0, 3), match='boy'>\n",
      "<re.Match object; span=(0, 3), match='CaT'>\n",
      "<re.Match object; span=(0, 6), match='meghAA'>\n",
      "None\n",
      "None\n",
      "None\n",
      "None\n",
      "None\n"
     ]
    }
   ],
   "source": [
    "regx=\"[A-Za-z]+\"\n",
    "list_of_strings=[\"APple\",\"boy\",\"CaT\",\"meghAA\",\"67\",\"66\",\"$\",\"@\",\"989809809%\"]\n",
    "for words in list_of_strings:\n",
    "    print(re.search(regx,words))"
   ]
  },
  {
   "cell_type": "code",
   "execution_count": 37,
   "id": "edf5bc02",
   "metadata": {},
   "outputs": [
    {
     "name": "stdout",
     "output_type": "stream",
     "text": [
      "['a', 'p', 'p', 'l', 'e', '', '', '', '', '', '', 'b', 'g', 'h', 'i', '']\n"
     ]
    }
   ],
   "source": [
    "regx=\"[A-Za-z]?\"\n",
    "print(re.findall(regx,\"apple877987bghi\"))"
   ]
  },
  {
   "cell_type": "code",
   "execution_count": 45,
   "id": "67d1226e",
   "metadata": {},
   "outputs": [
    {
     "name": "stdout",
     "output_type": "stream",
     "text": [
      "[]\n",
      "[]\n",
      "['ABACUS']\n",
      "[]\n",
      "[]\n"
     ]
    }
   ],
   "source": [
    "regx=\"^[nmA][A-Z]+\" #n or m or A\n",
    "xyz=[\"Neha\",\"megha\",\"ABACUS\",\"night\",\"apple787878979ghi\"]\n",
    "for words in xyz:\n",
    "    print(re.findall(regx,words))"
   ]
  },
  {
   "cell_type": "code",
   "execution_count": 49,
   "id": "1f6db033",
   "metadata": {},
   "outputs": [
    {
     "name": "stdout",
     "output_type": "stream",
     "text": [
      "[]\n",
      "[]\n",
      "[]\n",
      "[]\n",
      "['Apple787878979']\n"
     ]
    }
   ],
   "source": [
    "regx=\"^[nmA][a-z]+[0-9]+\" #n or m or A\n",
    "xyz=[\"Neha\",\"megha\",\"ABACUS\",\"night\",\"Apple787878979ghi\"]\n",
    "for words in xyz:\n",
    "    print(re.findall(regx,words))"
   ]
  },
  {
   "cell_type": "code",
   "execution_count": 50,
   "id": "9787f5ed",
   "metadata": {},
   "outputs": [
    {
     "name": "stdout",
     "output_type": "stream",
     "text": [
      "[]\n",
      "['megha']\n",
      "[]\n",
      "['night']\n",
      "['Apple787878979']\n"
     ]
    }
   ],
   "source": [
    "regx=\"^[nmA][a-z]+[0-9]*\" #n or m or A\n",
    "xyz=[\"Neha\",\"megha\",\"ABACUS\",\"night\",\"Apple787878979ghi\"]\n",
    "for words in xyz:\n",
    "    print(re.findall(regx,words))"
   ]
  },
  {
   "cell_type": "code",
   "execution_count": 2,
   "id": "dff25e24",
   "metadata": {},
   "outputs": [
    {
     "name": "stdout",
     "output_type": "stream",
     "text": [
      "['nagaland']\n",
      "[]\n",
      "['Abacus']\n",
      "[]\n",
      "['A']\n"
     ]
    }
   ],
   "source": [
    "#^ starting of the string.\n",
    "import re\n",
    "regx=\"^[nmA].*\"\n",
    "#list pattern that says any word that will start with n or m or A follwed with any character having 0 or more occurences.\n",
    "\n",
    "list_strings=[\"nagaland\",\"apple0987\",\"Abacus\",\"*&8nma\",\"A\"]\n",
    "for words in list_strings:\n",
    "    print(re.findall(regx,words))"
   ]
  },
  {
   "cell_type": "code",
   "execution_count": 6,
   "id": "435b6fc0",
   "metadata": {},
   "outputs": [
    {
     "name": "stdout",
     "output_type": "stream",
     "text": [
      "['12']\n",
      "['45']\n",
      "['455464']\n"
     ]
    }
   ],
   "source": [
    "regx=\"[0-9]+\"\n",
    "xyz=[\"12\",\"45heya\",\"apple455464\"]\n",
    "for c in xyz:\n",
    "    print(re.findall(regx,c))"
   ]
  },
  {
   "cell_type": "code",
   "execution_count": 13,
   "id": "cb55d4df",
   "metadata": {},
   "outputs": [
    {
     "name": "stdout",
     "output_type": "stream",
     "text": [
      "['AB098tea']\n",
      "[]\n"
     ]
    }
   ],
   "source": [
    "regx=\"^AB[0-9]{3}[a-z]{3}\"\n",
    "pqr=[\"AB098tea\",\"AB34oilfield\"]\n",
    "for c in pqr:\n",
    "    print(re.findall(regx,c))"
   ]
  },
  {
   "cell_type": "code",
   "execution_count": 11,
   "id": "92d3ed87",
   "metadata": {},
   "outputs": [
    {
     "name": "stdout",
     "output_type": "stream",
     "text": [
      "['88applemusic$%^%^^MEOW']\n",
      "[]\n"
     ]
    }
   ],
   "source": [
    "regx=\"^[0-9].*MEOW\"\n",
    "list1=[\"88applemusic$%^%^^MEOW\",\"MEOW1\"]\n",
    "for words in list1:\n",
    "        print(re.findall(regx,words))"
   ]
  },
  {
   "cell_type": "code",
   "execution_count": 17,
   "id": "1c940e4f",
   "metadata": {},
   "outputs": [
    {
     "name": "stdout",
     "output_type": "stream",
     "text": [
      "['aaaaaaa']\n",
      "['aaaaaaa']\n"
     ]
    }
   ],
   "source": [
    "regx=\"[a]{7}\"\n",
    "list3=[\"aaaaaaa7878\",\"aaaaaaaaaa\"]\n",
    "for words in list3:\n",
    "        print(re.findall(regx,words))"
   ]
  },
  {
   "cell_type": "code",
   "execution_count": 19,
   "id": "df95aa28",
   "metadata": {},
   "outputs": [
    {
     "name": "stdout",
     "output_type": "stream",
     "text": [
      "['7878767']\n",
      "[]\n",
      "['8797797']\n"
     ]
    }
   ],
   "source": [
    "regx=\"[0-9]{7}\"\n",
    "list3=[\"aaaaaaa78787676767\",\"aaaaaaaaaa\",\"879779797909\"]\n",
    "for words in list3:\n",
    "        print(re.findall(regx,words))"
   ]
  },
  {
   "cell_type": "code",
   "execution_count": 23,
   "id": "38016fb8",
   "metadata": {},
   "outputs": [
    {
     "name": "stdout",
     "output_type": "stream",
     "text": [
      "['23']\n",
      "['98']\n"
     ]
    }
   ],
   "source": [
    "##^[0-9][0-9] and [0-9]{2}\n",
    "\n",
    "\n",
    "regx=\"^[0-9][0-9]\"\n",
    "list4=[\"232323345\",\"98\"]\n",
    "for list5 in list4:\n",
    "    print(re.findall(regx,list5))"
   ]
  },
  {
   "cell_type": "code",
   "execution_count": 28,
   "id": "22335c58",
   "metadata": {},
   "outputs": [
    {
     "name": "stdout",
     "output_type": "stream",
     "text": [
      "['a', 'a', 'a', 'a', 'a', 'a', 'a', 'p', 'e', 't', 'r', 'g', 'd']\n",
      "['p', 'o', 'r', 'n', 'f', 'u', 'h']\n",
      "[]\n"
     ]
    }
   ],
   "source": [
    "regx=\"[^0-9]\"\n",
    "list_of_digit=[\"aaaaaaapetrgd10\",\"pornfuh56\",\"78\"]\n",
    "for list_of_digit1 in list_of_digit:\n",
    "    print(re.findall(regx,list_of_digit1))"
   ]
  },
  {
   "cell_type": "code",
   "execution_count": 29,
   "id": "526f347c",
   "metadata": {},
   "outputs": [
    {
     "name": "stdout",
     "output_type": "stream",
     "text": [
      "[]\n",
      "[]\n",
      "['7']\n"
     ]
    }
   ],
   "source": [
    "regx=\"^[0-9]\"\n",
    "list_of_digit=[\"aaaaaaapetrgd10\",\"pornfuh56\",\"78\"]\n",
    "for list_of_digit1 in list_of_digit:\n",
    "    print(re.findall(regx,list_of_digit1))"
   ]
  },
  {
   "cell_type": "code",
   "execution_count": 30,
   "id": "ace25ffe",
   "metadata": {},
   "outputs": [
    {
     "name": "stdout",
     "output_type": "stream",
     "text": [
      "['1', '0']\n",
      "['5', '6']\n",
      "['7', '8']\n"
     ]
    }
   ],
   "source": [
    "regx=\"[^a-z]\"\n",
    "list_of_digit=[\"aaaaaaapetrgd10\",\"pornfuh56\",\"78\"]\n",
    "for list_of_digit1 in list_of_digit:\n",
    "    print(re.findall(regx,list_of_digit1))"
   ]
  },
  {
   "cell_type": "code",
   "execution_count": 32,
   "id": "69dfa583",
   "metadata": {},
   "outputs": [
    {
     "name": "stdout",
     "output_type": "stream",
     "text": [
      "['123abc']\n",
      "[]\n",
      "[]\n"
     ]
    }
   ],
   "source": [
    "#Write a regx to match a 3 digit no. followed by abc \n",
    "\n",
    "regx=\"[0-9]{3}abc\"\n",
    "list_of_digit=[\"123abc\",\"pornfuh56\",\"78\"]\n",
    "for list_of_digit1 in list_of_digit:\n",
    "    print(re.findall(regx,list_of_digit1))"
   ]
  },
  {
   "cell_type": "code",
   "execution_count": 33,
   "id": "f2a4e54c",
   "metadata": {},
   "outputs": [
    {
     "name": "stdout",
     "output_type": "stream",
     "text": [
      "['123abc']\n",
      "['657hgj']\n",
      "[]\n"
     ]
    }
   ],
   "source": [
    "#3 digit number followed by 3 small alphabet\n",
    "regx=\"[0-9]{3}[a-z]{3}\"\n",
    "list_of_digit=[\"123abc\",\"657hgjty\",\"78\"]\n",
    "for list_of_digit1 in list_of_digit:\n",
    "    print(re.findall(regx,list_of_digit1))"
   ]
  },
  {
   "cell_type": "code",
   "execution_count": 34,
   "id": "ca1360ed",
   "metadata": {},
   "outputs": [
    {
     "name": "stdout",
     "output_type": "stream",
     "text": [
      "[]\n",
      "[]\n",
      "[]\n",
      "['applez']\n",
      "['az']\n",
      "['amchimumbaiz']\n"
     ]
    }
   ],
   "source": [
    "#start with a and end with z\n",
    "regx=\"^a.*z$\"\n",
    "list_of_digit=[\"123abc\",\"657hgjty\",\"78\",\"applez\",\"az\",\"amchimumbaiz\"]\n",
    "for list_of_digit1 in list_of_digit:\n",
    "    print(re.findall(regx,list_of_digit1))"
   ]
  },
  {
   "cell_type": "code",
   "execution_count": 35,
   "id": "11314a7c",
   "metadata": {},
   "outputs": [
    {
     "name": "stdout",
     "output_type": "stream",
     "text": [
      "['', '', '', 'abc', '']\n",
      "['', '', '', 'hgj', 'ty', '']\n",
      "['', '', '']\n",
      "['app', 'lez', '']\n",
      "['az', '']\n",
      "['amc', 'him', 'umb', 'aiz', '']\n"
     ]
    }
   ],
   "source": [
    "#atmost 3 ocurrences of small alphabet\n",
    "regx=\"[a-z]{0,3}\"\n",
    "list_of_digit=[\"123abc\",\"657hgjty\",\"78\",\"applez\",\"az\",\"amchimumbaiz\"]\n",
    "for list_of_digit1 in list_of_digit:\n",
    "    print(re.findall(regx,list_of_digit1))"
   ]
  },
  {
   "cell_type": "code",
   "execution_count": 39,
   "id": "845c3bf3",
   "metadata": {},
   "outputs": [
    {
     "name": "stdout",
     "output_type": "stream",
     "text": [
      "xyz\n"
     ]
    }
   ],
   "source": [
    "\n",
    "if re.findall('[0-9]','55xyz55'):\n",
    "    print(\"xyz\")\n",
    "else:\n",
    "    print(\"cant find\")"
   ]
  },
  {
   "cell_type": "code",
   "execution_count": 40,
   "id": "49d6e4d7",
   "metadata": {},
   "outputs": [],
   "source": [
    "#WAP to print hello world if the given string start with a and end with z \n",
    "\n",
    "def task1(string):\n",
    "    if re.search(\"^a.*z$\",string):\n",
    "        print(\"hello world\")\n",
    "    else:\n",
    "        print(\"nahi mila\")"
   ]
  },
  {
   "cell_type": "code",
   "execution_count": 44,
   "id": "3400b50d",
   "metadata": {},
   "outputs": [
    {
     "name": "stdout",
     "output_type": "stream",
     "text": [
      "nahi mila\n"
     ]
    }
   ],
   "source": [
    "task1(\"apple\")"
   ]
  },
  {
   "cell_type": "code",
   "execution_count": 42,
   "id": "4aced4a1",
   "metadata": {},
   "outputs": [
    {
     "name": "stdout",
     "output_type": "stream",
     "text": [
      "hello world\n"
     ]
    }
   ],
   "source": [
    "task1(\"afizzz\")"
   ]
  },
  {
   "cell_type": "code",
   "execution_count": null,
   "id": "aef06101",
   "metadata": {},
   "outputs": [],
   "source": [
    "Syantx:\n",
    "    map(func_name,iterable)\n",
    "    \n",
    "    "
   ]
  },
  {
   "cell_type": "code",
   "execution_count": 45,
   "id": "b458b497",
   "metadata": {},
   "outputs": [],
   "source": [
    "def sqr(n):\n",
    "    return n*n"
   ]
  },
  {
   "cell_type": "code",
   "execution_count": 48,
   "id": "afb6716e",
   "metadata": {},
   "outputs": [
    {
     "data": {
      "text/plain": [
       "4"
      ]
     },
     "execution_count": 48,
     "metadata": {},
     "output_type": "execute_result"
    }
   ],
   "source": [
    "sqr(2)"
   ]
  },
  {
   "cell_type": "code",
   "execution_count": 55,
   "id": "4d635582",
   "metadata": {},
   "outputs": [
    {
     "data": {
      "text/plain": [
       "[1, 4, 9]"
      ]
     },
     "execution_count": 55,
     "metadata": {},
     "output_type": "execute_result"
    }
   ],
   "source": [
    "list(map(sqr,[1,2,3]))"
   ]
  },
  {
   "cell_type": "code",
   "execution_count": 56,
   "id": "a4563d60",
   "metadata": {},
   "outputs": [
    {
     "data": {
      "text/plain": [
       "<map at 0x10668fe20>"
      ]
     },
     "execution_count": 56,
     "metadata": {},
     "output_type": "execute_result"
    }
   ],
   "source": [
    "map(sqr,[1,2,3])"
   ]
  },
  {
   "cell_type": "code",
   "execution_count": 62,
   "id": "88cde852",
   "metadata": {},
   "outputs": [
    {
     "name": "stdout",
     "output_type": "stream",
     "text": [
      "{'python': 2, 'java': 3}\n"
     ]
    }
   ],
   "source": [
    "x=[(\"python\",2),(\"java\",3)]\n",
    "y=dict(x)\n",
    "print((y))"
   ]
  },
  {
   "cell_type": "code",
   "execution_count": null,
   "id": "564e00cb",
   "metadata": {},
   "outputs": [],
   "source": [
    "x=\"abc\"\n",
    "if x==\"abc\""
   ]
  }
 ],
 "metadata": {
  "kernelspec": {
   "display_name": "Python 3",
   "language": "python",
   "name": "python3"
  },
  "language_info": {
   "codemirror_mode": {
    "name": "ipython",
    "version": 3
   },
   "file_extension": ".py",
   "mimetype": "text/x-python",
   "name": "python",
   "nbconvert_exporter": "python",
   "pygments_lexer": "ipython3",
   "version": "3.8.8"
  }
 },
 "nbformat": 4,
 "nbformat_minor": 5
}
