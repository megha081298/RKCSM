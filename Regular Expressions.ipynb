{
 "cells": [
  {
   "cell_type": "code",
   "execution_count": 1,
   "id": "d8d25b03",
   "metadata": {},
   "outputs": [
    {
     "ename": "SyntaxError",
     "evalue": "invalid syntax (<ipython-input-1-48a17f90acfc>, line 1)",
     "output_type": "error",
     "traceback": [
      "\u001b[0;36m  File \u001b[0;32m\"<ipython-input-1-48a17f90acfc>\"\u001b[0;36m, line \u001b[0;32m1\u001b[0m\n\u001b[0;31m    Regular Expressions:\u001b[0m\n\u001b[0m            ^\u001b[0m\n\u001b[0;31mSyntaxError\u001b[0m\u001b[0;31m:\u001b[0m invalid syntax\n"
     ]
    }
   ],
   "source": [
    "Regular Expressions:\n",
    "    WHAT IS REGULAR EXPRESSIONS?\n",
    "    It is string containing some set of rules to match or define particular pattern.\n",
    "    Everything around regular expressions is put inside a module named as \"re\" in python.\n",
    "    \n",
    "re.search=> matches the first pattern according to the regx inside the string and returns a match object with info.\n",
    "re.findall=> matches the every element according to the regx insode the string and returns the list matched.\n",
    "\n",
    "What does regular expressions do?\n",
    "pattern matching\n",
    "pattern extraction\n",
    "string matching and finding \n",
    "\n",
    "\n",
    "#Metacharacters\n",
    "\".\"= matches with all the characters(alphabets,digits,special char etc)except the new line.Single dot means single char and \n",
    "that char could be anything mentioned above.\n",
    "\n",
    "[A-Z]=> All capital letters alphabet from A to Z (single occurence)\n",
    "[a-z]=> Small alphabets from a to z (single occurence)\n",
    "[0-9]=>digits matching \n",
    "[!-*]=>special characters\n",
    "\n",
    "#quantofiers:\n",
    "\"+\"=>one or more occurence\n",
    "\"*\"=> zero or more occrence \n",
    "\"?\"=> OPtional either once or not at all\n",
    "\n",
    "#anchors\n",
    "\"^\"=> starting of the string\n",
    "\"$\"=>end of the string"
   ]
  },
  {
   "cell_type": "code",
   "execution_count": 3,
   "id": "479ade6b",
   "metadata": {},
   "outputs": [],
   "source": [
    "import re"
   ]
  },
  {
   "cell_type": "code",
   "execution_count": 4,
   "id": "c3fc8217",
   "metadata": {},
   "outputs": [
    {
     "name": "stdout",
     "output_type": "stream",
     "text": [
      "<re.Match object; span=(0, 1), match='M'>\n"
     ]
    }
   ],
   "source": [
    "x=\".\" #regular expression\n",
    "print(re.search(x,\"Mango juice\"))"
   ]
  },
  {
   "cell_type": "code",
   "execution_count": 5,
   "id": "14dbff78",
   "metadata": {},
   "outputs": [
    {
     "ename": "SyntaxError",
     "evalue": "invalid syntax (<ipython-input-5-9cdd5b6ae60f>, line 1)",
     "output_type": "error",
     "traceback": [
      "\u001b[0;36m  File \u001b[0;32m\"<ipython-input-5-9cdd5b6ae60f>\"\u001b[0;36m, line \u001b[0;32m1\u001b[0m\n\u001b[0;31m    Syntax:\u001b[0m\n\u001b[0m           ^\u001b[0m\n\u001b[0;31mSyntaxError\u001b[0m\u001b[0;31m:\u001b[0m invalid syntax\n"
     ]
    }
   ],
   "source": [
    "Syntax:\n",
    "    regx=define your regx here\n",
    "    linnes of code or list of elements......\n",
    "    ........\n",
    "    ......\n",
    "    print(re.search/re.findall(regx,string))"
   ]
  },
  {
   "cell_type": "code",
   "execution_count": 6,
   "id": "8e937469",
   "metadata": {},
   "outputs": [
    {
     "name": "stdout",
     "output_type": "stream",
     "text": [
      "['M', 'a', 'n', 'g', 'o', ' ', 'j', 'u', 'i', 'c', 'e']\n"
     ]
    }
   ],
   "source": [
    "x=\".\" #regular expression\n",
    "print(re.findall(x,\"Mango juice\"))"
   ]
  },
  {
   "cell_type": "code",
   "execution_count": 7,
   "id": "e019952e",
   "metadata": {},
   "outputs": [
    {
     "name": "stdout",
     "output_type": "stream",
     "text": [
      "<re.Match object; span=(0, 1), match='A'>\n",
      "None\n",
      "<re.Match object; span=(2, 3), match='T'>\n",
      "<re.Match object; span=(4, 5), match='A'>\n"
     ]
    }
   ],
   "source": [
    "regx=\"[A-Z]\"\n",
    "list_of_strings=[\"Apple\",\"boy\",\"caTTTYYY\",\"meghAA\"]\n",
    "for words in list_of_strings:\n",
    "    print(re.search(regx,words))"
   ]
  },
  {
   "cell_type": "code",
   "execution_count": 8,
   "id": "95107762",
   "metadata": {},
   "outputs": [
    {
     "name": "stdout",
     "output_type": "stream",
     "text": [
      "['A', 'P']\n",
      "[]\n",
      "['C', 'T']\n",
      "['A', 'A']\n"
     ]
    }
   ],
   "source": [
    "regx=\"[A-Z]\"\n",
    "list_of_strings=[\"APple\",\"boy\",\"CaT\",\"meghAA\"]\n",
    "for words in list_of_strings:\n",
    "    print(re.findall(regx,words))"
   ]
  },
  {
   "cell_type": "code",
   "execution_count": 9,
   "id": "4204e856",
   "metadata": {},
   "outputs": [
    {
     "name": "stdout",
     "output_type": "stream",
     "text": [
      "['p', 'l', 'e']\n",
      "['b', 'o', 'y']\n",
      "['a']\n",
      "['m', 'e', 'g', 'h']\n"
     ]
    }
   ],
   "source": [
    "regx=\"[a-z]\"\n",
    "list_of_strings=[\"APple\",\"boy\",\"CaT\",\"meghAA\"]\n",
    "for words in list_of_strings:\n",
    "    print(re.findall(regx,words))"
   ]
  },
  {
   "cell_type": "code",
   "execution_count": 10,
   "id": "740f6f64",
   "metadata": {},
   "outputs": [
    {
     "name": "stdout",
     "output_type": "stream",
     "text": [
      "<re.Match object; span=(2, 3), match='p'>\n",
      "<re.Match object; span=(0, 1), match='b'>\n",
      "<re.Match object; span=(1, 2), match='a'>\n",
      "<re.Match object; span=(0, 1), match='m'>\n"
     ]
    }
   ],
   "source": [
    "regx=\"[a-z]\"\n",
    "list_of_strings=[\"APple\",\"boy\",\"CaT\",\"meghAA\"]\n",
    "for words in list_of_strings:\n",
    "    print(re.search(regx,words))"
   ]
  },
  {
   "cell_type": "code",
   "execution_count": 11,
   "id": "68b06e0e",
   "metadata": {},
   "outputs": [
    {
     "name": "stdout",
     "output_type": "stream",
     "text": [
      "None\n",
      "None\n",
      "None\n",
      "None\n",
      "<re.Match object; span=(0, 1), match='6'>\n",
      "<re.Match object; span=(0, 1), match='6'>\n"
     ]
    }
   ],
   "source": [
    "regx=\"[0-9]\"\n",
    "list_of_strings=[\"APple\",\"boy\",\"CaT\",\"meghAA\",\"67\",\"677768698\"]\n",
    "for words in list_of_strings:\n",
    "    print(re.search(regx,words))"
   ]
  },
  {
   "cell_type": "code",
   "execution_count": 12,
   "id": "4c3d5be4",
   "metadata": {
    "scrolled": true
   },
   "outputs": [
    {
     "name": "stdout",
     "output_type": "stream",
     "text": [
      "[]\n",
      "[]\n",
      "[]\n",
      "[]\n",
      "['6', '7']\n",
      "['6', '7', '7', '7', '6', '8', '6', '9', '8']\n"
     ]
    }
   ],
   "source": [
    "regx=\"[0-9]\"\n",
    "list_of_strings=[\"APple\",\"boy\",\"CaT\",\"meghAA\",\"67\",\"677768698\"]\n",
    "for words in list_of_strings:\n",
    "    print(re.findall(regx,words))"
   ]
  },
  {
   "cell_type": "code",
   "execution_count": 13,
   "id": "b74c3a50",
   "metadata": {},
   "outputs": [
    {
     "name": "stdout",
     "output_type": "stream",
     "text": [
      "[]\n",
      "[]\n",
      "[]\n",
      "[]\n",
      "[]\n",
      "[]\n",
      "['$']\n"
     ]
    }
   ],
   "source": [
    "regx=\"[$]\"\n",
    "list_of_strings=[\"APple\",\"boy\",\"CaT\",\"meghAA\",\"67\",\"677768698\",\"$\"]\n",
    "for words in list_of_strings:\n",
    "    print(re.findall(regx,words))"
   ]
  },
  {
   "cell_type": "code",
   "execution_count": 14,
   "id": "fc378067",
   "metadata": {},
   "outputs": [
    {
     "name": "stdout",
     "output_type": "stream",
     "text": [
      "<re.Match object; span=(6, 8), match='ju'>\n"
     ]
    }
   ],
   "source": [
    "xyz=\"ju\"\n",
    "print(re.search(xyz,\"Mango juiceju\"))"
   ]
  },
  {
   "cell_type": "code",
   "execution_count": 15,
   "id": "bba2339e",
   "metadata": {},
   "outputs": [
    {
     "name": "stdout",
     "output_type": "stream",
     "text": [
      "['ju', 'ju']\n"
     ]
    }
   ],
   "source": [
    "xyz=\"ju\"\n",
    "print(re.findall(xyz,\"Mango juiceju\"))"
   ]
  },
  {
   "cell_type": "code",
   "execution_count": 16,
   "id": "c22f3e01",
   "metadata": {},
   "outputs": [
    {
     "name": "stdout",
     "output_type": "stream",
     "text": [
      "<re.Match object; span=(2, 3), match='p'>\n",
      "<re.Match object; span=(0, 1), match='b'>\n",
      "<re.Match object; span=(1, 2), match='a'>\n",
      "<re.Match object; span=(0, 1), match='m'>\n"
     ]
    }
   ],
   "source": [
    "regx=\"[a-z]\"\n",
    "list_of_strings=[\"APple\",\"boy\",\"CaT\",\"meghAA\"]\n",
    "for words in list_of_strings:\n",
    "    print(re.search(regx,words))"
   ]
  },
  {
   "cell_type": "code",
   "execution_count": 17,
   "id": "758bf034",
   "metadata": {},
   "outputs": [
    {
     "name": "stdout",
     "output_type": "stream",
     "text": [
      "<re.Match object; span=(0, 1), match='A'>\n",
      "<re.Match object; span=(0, 1), match='b'>\n",
      "<re.Match object; span=(0, 1), match='C'>\n",
      "<re.Match object; span=(0, 1), match='m'>\n"
     ]
    }
   ],
   "source": [
    "regx=\"[A-Za-z]\"\n",
    "list_of_strings=[\"APple\",\"boy\",\"CaT\",\"meghAA\"]\n",
    "for words in list_of_strings:\n",
    "    print(re.search(regx,words))"
   ]
  },
  {
   "cell_type": "code",
   "execution_count": 20,
   "id": "c129fa12",
   "metadata": {},
   "outputs": [
    {
     "name": "stdout",
     "output_type": "stream",
     "text": [
      "<re.Match object; span=(0, 1), match='A'>\n",
      "None\n",
      "<re.Match object; span=(0, 1), match='C'>\n",
      "<re.Match object; span=(0, 1), match='m'>\n",
      "<re.Match object; span=(1, 2), match='7'>\n",
      "None\n",
      "None\n"
     ]
    }
   ],
   "source": [
    "regx=\"[A-Zm-n7-9]\"\n",
    "list_of_strings=[\"APple\",\"boy\",\"CaT\",\"meghAA\",\"67\",\"66\",\"$\"]\n",
    "for words in list_of_strings:\n",
    "    print(re.search(regx,words))"
   ]
  },
  {
   "cell_type": "code",
   "execution_count": 31,
   "id": "edf456d2",
   "metadata": {},
   "outputs": [
    {
     "name": "stdout",
     "output_type": "stream",
     "text": [
      "<re.Match object; span=(0, 1), match='A'>\n",
      "<re.Match object; span=(0, 1), match='b'>\n",
      "<re.Match object; span=(0, 1), match='C'>\n",
      "<re.Match object; span=(0, 1), match='m'>\n",
      "None\n",
      "None\n",
      "<re.Match object; span=(0, 1), match='$'>\n",
      "<re.Match object; span=(0, 1), match='@'>\n",
      "<re.Match object; span=(9, 10), match='%'>\n"
     ]
    }
   ],
   "source": [
    "regx=\"[A-Za-z!-*@]\"\n",
    "list_of_strings=[\"APple\",\"boy\",\"CaT\",\"meghAA\",\"67\",\"66\",\"$\",\"@\",\"989809809%\"]\n",
    "for words in list_of_strings:\n",
    "    print(re.search(regx,words))"
   ]
  },
  {
   "cell_type": "code",
   "execution_count": 23,
   "id": "75c17a98",
   "metadata": {
    "scrolled": true
   },
   "outputs": [
    {
     "data": {
      "text/plain": [
       "64"
      ]
     },
     "execution_count": 23,
     "metadata": {},
     "output_type": "execute_result"
    }
   ],
   "source": [
    "ord(\"@\")"
   ]
  },
  {
   "cell_type": "code",
   "execution_count": 24,
   "id": "d2259740",
   "metadata": {},
   "outputs": [
    {
     "data": {
      "text/plain": [
       "33"
      ]
     },
     "execution_count": 24,
     "metadata": {},
     "output_type": "execute_result"
    }
   ],
   "source": [
    "ord(\"!\")"
   ]
  },
  {
   "cell_type": "code",
   "execution_count": 25,
   "id": "c0d3f572",
   "metadata": {},
   "outputs": [
    {
     "data": {
      "text/plain": [
       "35"
      ]
     },
     "execution_count": 25,
     "metadata": {},
     "output_type": "execute_result"
    }
   ],
   "source": [
    "ord(\"#\")"
   ]
  },
  {
   "cell_type": "code",
   "execution_count": 26,
   "id": "b9b032a6",
   "metadata": {},
   "outputs": [
    {
     "data": {
      "text/plain": [
       "36"
      ]
     },
     "execution_count": 26,
     "metadata": {},
     "output_type": "execute_result"
    }
   ],
   "source": [
    "ord(\"$\")"
   ]
  },
  {
   "cell_type": "code",
   "execution_count": 27,
   "id": "7af3f74d",
   "metadata": {},
   "outputs": [
    {
     "data": {
      "text/plain": [
       "37"
      ]
     },
     "execution_count": 27,
     "metadata": {},
     "output_type": "execute_result"
    }
   ],
   "source": [
    "ord(\"%\")"
   ]
  },
  {
   "cell_type": "code",
   "execution_count": 28,
   "id": "54013a65",
   "metadata": {},
   "outputs": [
    {
     "data": {
      "text/plain": [
       "94"
      ]
     },
     "execution_count": 28,
     "metadata": {},
     "output_type": "execute_result"
    }
   ],
   "source": [
    "ord(\"^\")"
   ]
  },
  {
   "cell_type": "code",
   "execution_count": 29,
   "id": "73d4f017",
   "metadata": {},
   "outputs": [
    {
     "data": {
      "text/plain": [
       "38"
      ]
     },
     "execution_count": 29,
     "metadata": {},
     "output_type": "execute_result"
    }
   ],
   "source": [
    "ord(\"&\")"
   ]
  },
  {
   "cell_type": "code",
   "execution_count": 30,
   "id": "3fd05b8b",
   "metadata": {},
   "outputs": [
    {
     "data": {
      "text/plain": [
       "42"
      ]
     },
     "execution_count": 30,
     "metadata": {},
     "output_type": "execute_result"
    }
   ],
   "source": [
    "ord(\"*\")"
   ]
  },
  {
   "cell_type": "code",
   "execution_count": 32,
   "id": "0e3c7d51",
   "metadata": {},
   "outputs": [
    {
     "data": {
      "text/plain": [
       "65"
      ]
     },
     "execution_count": 32,
     "metadata": {},
     "output_type": "execute_result"
    }
   ],
   "source": [
    "ord(\"A\")"
   ]
  },
  {
   "cell_type": "code",
   "execution_count": 35,
   "id": "f65ea41e",
   "metadata": {},
   "outputs": [
    {
     "name": "stdout",
     "output_type": "stream",
     "text": [
      "<re.Match object; span=(0, 5), match='APple'>\n",
      "<re.Match object; span=(0, 3), match='boy'>\n",
      "<re.Match object; span=(0, 3), match='CaT'>\n",
      "<re.Match object; span=(0, 6), match='meghAA'>\n",
      "<re.Match object; span=(0, 0), match=''>\n",
      "<re.Match object; span=(0, 0), match=''>\n",
      "<re.Match object; span=(0, 0), match=''>\n",
      "<re.Match object; span=(0, 0), match=''>\n",
      "<re.Match object; span=(0, 0), match=''>\n"
     ]
    }
   ],
   "source": [
    "regx=\"[A-Za-z]*\"\n",
    "list_of_strings=[\"APple\",\"boy\",\"CaT\",\"meghAA\",\"67\",\"66\",\"$\",\"@\",\"989809809%\"]\n",
    "for words in list_of_strings:\n",
    "    print(re.search(regx,words))"
   ]
  },
  {
   "cell_type": "code",
   "execution_count": 36,
   "id": "112b9d50",
   "metadata": {},
   "outputs": [
    {
     "name": "stdout",
     "output_type": "stream",
     "text": [
      "<re.Match object; span=(0, 5), match='APple'>\n",
      "<re.Match object; span=(0, 3), match='boy'>\n",
      "<re.Match object; span=(0, 3), match='CaT'>\n",
      "<re.Match object; span=(0, 6), match='meghAA'>\n",
      "None\n",
      "None\n",
      "None\n",
      "None\n",
      "None\n"
     ]
    }
   ],
   "source": [
    "regx=\"[A-Za-z]+\"\n",
    "list_of_strings=[\"APple\",\"boy\",\"CaT\",\"meghAA\",\"67\",\"66\",\"$\",\"@\",\"989809809%\"]\n",
    "for words in list_of_strings:\n",
    "    print(re.search(regx,words))"
   ]
  },
  {
   "cell_type": "code",
   "execution_count": 37,
   "id": "edf5bc02",
   "metadata": {},
   "outputs": [
    {
     "name": "stdout",
     "output_type": "stream",
     "text": [
      "['a', 'p', 'p', 'l', 'e', '', '', '', '', '', '', 'b', 'g', 'h', 'i', '']\n"
     ]
    }
   ],
   "source": [
    "regx=\"[A-Za-z]?\"\n",
    "print(re.findall(regx,\"apple877987bghi\"))"
   ]
  },
  {
   "cell_type": "code",
   "execution_count": 45,
   "id": "67d1226e",
   "metadata": {},
   "outputs": [
    {
     "name": "stdout",
     "output_type": "stream",
     "text": [
      "[]\n",
      "[]\n",
      "['ABACUS']\n",
      "[]\n",
      "[]\n"
     ]
    }
   ],
   "source": [
    "regx=\"^[nmA][A-Z]+\" #n or m or A\n",
    "xyz=[\"Neha\",\"megha\",\"ABACUS\",\"night\",\"apple787878979ghi\"]\n",
    "for words in xyz:\n",
    "    print(re.findall(regx,words))"
   ]
  },
  {
   "cell_type": "code",
   "execution_count": 49,
   "id": "1f6db033",
   "metadata": {},
   "outputs": [
    {
     "name": "stdout",
     "output_type": "stream",
     "text": [
      "[]\n",
      "[]\n",
      "[]\n",
      "[]\n",
      "['Apple787878979']\n"
     ]
    }
   ],
   "source": [
    "regx=\"^[nmA][a-z]+[0-9]+\" #n or m or A\n",
    "xyz=[\"Neha\",\"megha\",\"ABACUS\",\"night\",\"Apple787878979ghi\"]\n",
    "for words in xyz:\n",
    "    print(re.findall(regx,words))"
   ]
  },
  {
   "cell_type": "code",
   "execution_count": 50,
   "id": "9787f5ed",
   "metadata": {},
   "outputs": [
    {
     "name": "stdout",
     "output_type": "stream",
     "text": [
      "[]\n",
      "['megha']\n",
      "[]\n",
      "['night']\n",
      "['Apple787878979']\n"
     ]
    }
   ],
   "source": [
    "regx=\"^[nmA][a-z]+[0-9]*\" #n or m or A\n",
    "xyz=[\"Neha\",\"megha\",\"ABACUS\",\"night\",\"Apple787878979ghi\"]\n",
    "for words in xyz:\n",
    "    print(re.findall(regx,words))"
   ]
  },
  {
   "cell_type": "code",
   "execution_count": null,
   "id": "dff25e24",
   "metadata": {},
   "outputs": [],
   "source": []
  }
 ],
 "metadata": {
  "kernelspec": {
   "display_name": "Python 3",
   "language": "python",
   "name": "python3"
  },
  "language_info": {
   "codemirror_mode": {
    "name": "ipython",
    "version": 3
   },
   "file_extension": ".py",
   "mimetype": "text/x-python",
   "name": "python",
   "nbconvert_exporter": "python",
   "pygments_lexer": "ipython3",
   "version": "3.8.8"
  }
 },
 "nbformat": 4,
 "nbformat_minor": 5
}
