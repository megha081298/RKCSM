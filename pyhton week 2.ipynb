{
 "cells": [
  {
   "cell_type": "markdown",
   "id": "e60ecb4d",
   "metadata": {},
   "source": [
    "Syantax:\n",
    "    if Boolean:\n",
    "        lines of code.....\n",
    "        ......\n",
    "    else:\n",
    "        \n",
    "        lines of code...\n",
    "Boolean=comaprison operators here."
   ]
  },
  {
   "cell_type": "code",
   "execution_count": 3,
   "id": "8cf3276b",
   "metadata": {},
   "outputs": [
    {
     "data": {
      "text/plain": [
       "True"
      ]
     },
     "execution_count": 3,
     "metadata": {},
     "output_type": "execute_result"
    }
   ],
   "source": [
    "2==2"
   ]
  },
  {
   "cell_type": "code",
   "execution_count": 6,
   "id": "7b327647",
   "metadata": {},
   "outputs": [
    {
     "name": "stdout",
     "output_type": "stream",
     "text": [
      "let's go for a movie tonight\n",
      "koi baat nahi\n"
     ]
    }
   ],
   "source": [
    "reply=\"hey\"\n",
    "if reply==\"hey\":\n",
    "    print(\"let's go for a movie tonight\")\n",
    "    reply1=\"no\"\n",
    "    if reply1==\"no\":\n",
    "        print(\"koi baat nahi\")\n",
    "    else:\n",
    "        print(\"ok I be there to pick you up\")\n",
    "else:\n",
    "    print(\"no response\")"
   ]
  },
  {
   "cell_type": "code",
   "execution_count": 8,
   "id": "48a90088",
   "metadata": {},
   "outputs": [
    {
     "name": "stdout",
     "output_type": "stream",
     "text": [
      "ok let's go again\n"
     ]
    }
   ],
   "source": [
    "reply=\"heya\"\n",
    "if reply==\"hey\":\n",
    "    print(\"let's go\")\n",
    "elif reply==\"heya\":\n",
    "    print(\"ok let's go again\")\n",
    "else:\n",
    "    print(\"chalta hai\")"
   ]
  },
  {
   "cell_type": "code",
   "execution_count": 10,
   "id": "e5726107",
   "metadata": {},
   "outputs": [
    {
     "name": "stdout",
     "output_type": "stream",
     "text": [
      "yum\n"
     ]
    }
   ],
   "source": [
    "order=[\"cake\",\"pastries\",\"gulabjamun\"]\n",
    "order2=[\"paneer \",\"chicken\",\"biryani\"]\n",
    "order3=order[0]\n",
    "if order3==\"cake\":\n",
    "    print(\"yum\")\n",
    "if order3==\"pastries\":\n",
    "    print(\"yummy\")"
   ]
  },
  {
   "cell_type": "code",
   "execution_count": null,
   "id": "2321e048",
   "metadata": {},
   "outputs": [],
   "source": [
    "Memebership operators:\n",
    "    in, not in\n",
    "    "
   ]
  },
  {
   "cell_type": "code",
   "execution_count": 11,
   "id": "af1f53c9",
   "metadata": {},
   "outputs": [
    {
     "data": {
      "text/plain": [
       "True"
      ]
     },
     "execution_count": 11,
     "metadata": {},
     "output_type": "execute_result"
    }
   ],
   "source": [
    "fruits=[\"banana\",\"apple\",\"cherry\"]\n",
    "\"apple\" in fruits"
   ]
  },
  {
   "cell_type": "code",
   "execution_count": 12,
   "id": "65d9d522",
   "metadata": {},
   "outputs": [
    {
     "name": "stdout",
     "output_type": "stream",
     "text": [
      "maza agya\n",
      "kya baat hai\n"
     ]
    }
   ],
   "source": [
    "order=[\"cake\",\"pastries\",\"gulabjamun\"]\n",
    "if \"cake\" in order:\n",
    "    print(\"maza agya\")\n",
    "if \"pastries\" in order:\n",
    "    print(\"kya baat hai\")"
   ]
  },
  {
   "cell_type": "code",
   "execution_count": null,
   "id": "b9a97345",
   "metadata": {},
   "outputs": [],
   "source": [
    "Loops:\n",
    "    iterations: they are nothing but using values again and again which we have defined earlier."
   ]
  },
  {
   "cell_type": "code",
   "execution_count": 13,
   "id": "92a7b14f",
   "metadata": {},
   "outputs": [
    {
     "name": "stdout",
     "output_type": "stream",
     "text": [
      "10\n",
      "100\n",
      "200\n",
      "400\n",
      "30\n"
     ]
    }
   ],
   "source": [
    "queue1=[10,100,200,400,30]\n",
    "for payments in queue1:\n",
    "    print(payments)"
   ]
  },
  {
   "cell_type": "code",
   "execution_count": 15,
   "id": "8ae8f9df",
   "metadata": {},
   "outputs": [
    {
     "name": "stdout",
     "output_type": "stream",
     "text": [
      "recieved payment 10\n",
      "recieved payment 100\n",
      "recieved payment 200\n",
      "recieved payment 400\n",
      "recieved payment 30\n"
     ]
    }
   ],
   "source": [
    "print(\"recieved payment\",queue1[0])\n",
    "print(\"recieved payment\",queue1[1])\n",
    "print(\"recieved payment\",queue1[2])\n",
    "print(\"recieved payment\",queue1[3])\n",
    "print(\"recieved payment\",queue1[4])"
   ]
  },
  {
   "cell_type": "code",
   "execution_count": null,
   "id": "800ea524",
   "metadata": {},
   "outputs": [],
   "source": [
    "\n",
    "Syntax:\n",
    "    for variable_name in assigned one:\n",
    "        lines of code.....\n",
    "        .........\n",
    "        \n",
    "    \n",
    "    \n",
    "    \n",
    "Datatypes which follows indexing:\n",
    "    1.list\n",
    "    2.tuple\n",
    "    3.string\n",
    "    4.float\n",
    "    5.int\n",
    "Datatypes that does not follow indexing:\n",
    "    1.set\n",
    "    2.dict\n",
    "    \n",
    "    \n",
    "    \n",
    "Mutable:\n",
    "    1.Lists\n",
    "    2.Sets\n",
    "    3.dict\n",
    "Immutable:\n",
    "    1.int\n",
    "    2.float\n",
    "    3.string\n",
    "    4.tuple\n",
    "    "
   ]
  },
  {
   "cell_type": "code",
   "execution_count": 18,
   "id": "cb636af8",
   "metadata": {},
   "outputs": [
    {
     "name": "stdout",
     "output_type": "stream",
     "text": [
      "x is even\n",
      "x is positive\n"
     ]
    }
   ],
   "source": [
    "x=2\n",
    "if x%2==0:\n",
    "    print(\"x is even\")\n",
    "    if x>0:\n",
    "        print(\"x is positive\")\n",
    "#1 x is even\n",
    "#2 x is positive\n",
    "#3 both"
   ]
  },
  {
   "cell_type": "code",
   "execution_count": 20,
   "id": "8b9ed4ff",
   "metadata": {},
   "outputs": [
    {
     "name": "stdout",
     "output_type": "stream",
     "text": [
      "1\n"
     ]
    }
   ],
   "source": [
    "dict1={\"python\":1,\"java\":2}\n",
    "print(dict1[\"python\"])"
   ]
  },
  {
   "cell_type": "markdown",
   "id": "3e76159a",
   "metadata": {},
   "source": [
    "#Slicing \n",
    "Slicing is nothing but cutting or splitting the values.\n"
   ]
  },
  {
   "cell_type": "code",
   "execution_count": 21,
   "id": "23d1e5fe",
   "metadata": {},
   "outputs": [
    {
     "data": {
      "text/plain": [
       "'app'"
      ]
     },
     "execution_count": 21,
     "metadata": {},
     "output_type": "execute_result"
    }
   ],
   "source": [
    "fruit=\"apple\"\n",
    "fruit[0:3]"
   ]
  },
  {
   "cell_type": "code",
   "execution_count": 22,
   "id": "f9a37205",
   "metadata": {},
   "outputs": [
    {
     "data": {
      "text/plain": [
       "'appl'"
      ]
     },
     "execution_count": 22,
     "metadata": {},
     "output_type": "execute_result"
    }
   ],
   "source": [
    "fruit[0:4]"
   ]
  },
  {
   "cell_type": "code",
   "execution_count": 23,
   "id": "7c220420",
   "metadata": {},
   "outputs": [
    {
     "data": {
      "text/plain": [
       "'ap'"
      ]
     },
     "execution_count": 23,
     "metadata": {},
     "output_type": "execute_result"
    }
   ],
   "source": [
    "fruit[0:2]"
   ]
  },
  {
   "cell_type": "code",
   "execution_count": 26,
   "id": "38a1e75d",
   "metadata": {},
   "outputs": [
    {
     "name": "stdout",
     "output_type": "stream",
     "text": [
      "python\n",
      "java\n"
     ]
    }
   ],
   "source": [
    "for key1 in {\"python\":1,\"java\":2}:\n",
    "    print(key1)        ## how to print key names in dictionaries"
   ]
  },
  {
   "cell_type": "markdown",
   "id": "7a6f2fb1",
   "metadata": {},
   "source": [
    "# syantax of slicing:\n",
    "    #varaible_name[start_index,end_index,stride]\n",
    "    "
   ]
  },
  {
   "cell_type": "code",
   "execution_count": 27,
   "id": "dffffdd9",
   "metadata": {},
   "outputs": [
    {
     "data": {
      "text/plain": [
       "['stuti', 'manish', 'mani']"
      ]
     },
     "execution_count": 27,
     "metadata": {},
     "output_type": "execute_result"
    }
   ],
   "source": [
    "fruit=[\"stuti\",\"manish\",\"mani\",\"divyangi\",\"kinshuk\"]\n",
    "fruit[0:3]"
   ]
  },
  {
   "cell_type": "code",
   "execution_count": 28,
   "id": "0632680d",
   "metadata": {},
   "outputs": [
    {
     "data": {
      "text/plain": [
       "('stuti', 'manish', 'mani')"
      ]
     },
     "execution_count": 28,
     "metadata": {},
     "output_type": "execute_result"
    }
   ],
   "source": [
    "fruit=(\"stuti\",\"manish\",\"mani\",\"divyangi\",\"kinshuk\")\n",
    "fruit[0:3]"
   ]
  },
  {
   "cell_type": "code",
   "execution_count": 29,
   "id": "b84b2e88",
   "metadata": {},
   "outputs": [
    {
     "data": {
      "text/plain": [
       "'kinshuk'"
      ]
     },
     "execution_count": 29,
     "metadata": {},
     "output_type": "execute_result"
    }
   ],
   "source": [
    "fruit[-1]"
   ]
  },
  {
   "cell_type": "code",
   "execution_count": 30,
   "id": "cc1d60c6",
   "metadata": {},
   "outputs": [
    {
     "data": {
      "text/plain": [
       "'stuti'"
      ]
     },
     "execution_count": 30,
     "metadata": {},
     "output_type": "execute_result"
    }
   ],
   "source": [
    "fruit[0]"
   ]
  },
  {
   "cell_type": "code",
   "execution_count": 31,
   "id": "e8bc3efb",
   "metadata": {},
   "outputs": [
    {
     "data": {
      "text/plain": [
       "()"
      ]
     },
     "execution_count": 31,
     "metadata": {},
     "output_type": "execute_result"
    }
   ],
   "source": [
    "fruit[-1:-4]"
   ]
  },
  {
   "cell_type": "code",
   "execution_count": 14,
   "id": "777a78f7",
   "metadata": {},
   "outputs": [
    {
     "data": {
      "text/plain": [
       "['xyz', 'vus']"
      ]
     },
     "execution_count": 14,
     "metadata": {},
     "output_type": "execute_result"
    }
   ],
   "source": [
    "fruit=[\"stuti\",\"manish\",\"mani\",\"divyangi\",\"kinshuk\",\"megha\",\"anyone\",\"vus\",\"xyz\"]\n",
    "fruit[-1:-3:-1]"
   ]
  },
  {
   "cell_type": "code",
   "execution_count": 15,
   "id": "379367a4",
   "metadata": {},
   "outputs": [
    {
     "data": {
      "text/plain": [
       "['stuti', 'divyangi']"
      ]
     },
     "execution_count": 15,
     "metadata": {},
     "output_type": "execute_result"
    }
   ],
   "source": [
    "fruit[0:5:3]"
   ]
  },
  {
   "cell_type": "code",
   "execution_count": 16,
   "id": "6f1e0788",
   "metadata": {},
   "outputs": [
    {
     "data": {
      "text/plain": [
       "['anyone', 'vus']"
      ]
     },
     "execution_count": 16,
     "metadata": {},
     "output_type": "execute_result"
    }
   ],
   "source": [
    "fruit[-3:-1]"
   ]
  },
  {
   "cell_type": "code",
   "execution_count": 17,
   "id": "9c6681a9",
   "metadata": {},
   "outputs": [
    {
     "data": {
      "text/plain": [
       "['mani', 'divyangi']"
      ]
     },
     "execution_count": 17,
     "metadata": {},
     "output_type": "execute_result"
    }
   ],
   "source": [
    "fruit[2:4]"
   ]
  },
  {
   "cell_type": "code",
   "execution_count": 20,
   "id": "de7dd442",
   "metadata": {},
   "outputs": [
    {
     "data": {
      "text/plain": [
       "['stuti',\n",
       " 'manish',\n",
       " 'mani',\n",
       " 'divyangi',\n",
       " 'kinshuk',\n",
       " 'megha',\n",
       " 'anyone',\n",
       " 'vus',\n",
       " 'xyz']"
      ]
     },
     "execution_count": 20,
     "metadata": {},
     "output_type": "execute_result"
    }
   ],
   "source": [
    "fruit[0:]"
   ]
  },
  {
   "cell_type": "code",
   "execution_count": 19,
   "id": "787878a7",
   "metadata": {},
   "outputs": [
    {
     "data": {
      "text/plain": [
       "['stuti', 'manish', 'mani', 'divyangi', 'kinshuk', 'megha', 'anyone', 'vus']"
      ]
     },
     "execution_count": 19,
     "metadata": {},
     "output_type": "execute_result"
    }
   ],
   "source": [
    "fruit[0:8]"
   ]
  },
  {
   "cell_type": "code",
   "execution_count": null,
   "id": "12d5dc08",
   "metadata": {},
   "outputs": [],
   "source": [
    "print yes if x is divisible by both 3 and 5."
   ]
  },
  {
   "cell_type": "code",
   "execution_count": 2,
   "id": "21dac06d",
   "metadata": {},
   "outputs": [
    {
     "name": "stdout",
     "output_type": "stream",
     "text": [
      "15\n",
      "yes\n"
     ]
    }
   ],
   "source": [
    "no= int (input ())\n",
    "if no%3==0 and no%5==0:\n",
    "    print(\"yes\")\n",
    "else:\n",
    "    print(\"not divisible\")"
   ]
  },
  {
   "cell_type": "code",
   "execution_count": null,
   "id": "bb18df10",
   "metadata": {},
   "outputs": [],
   "source": [
    "True and False equivalence"
   ]
  },
  {
   "cell_type": "code",
   "execution_count": 3,
   "id": "b57aea3a",
   "metadata": {},
   "outputs": [
    {
     "name": "stdout",
     "output_type": "stream",
     "text": [
      "False\n"
     ]
    }
   ],
   "source": [
    "x=False  #0\n",
    "y=True    #1\n",
    "z=x and y\n",
    "print(z)"
   ]
  },
  {
   "cell_type": "code",
   "execution_count": 4,
   "id": "e98faf48",
   "metadata": {},
   "outputs": [
    {
     "name": "stdout",
     "output_type": "stream",
     "text": [
      "True\n"
     ]
    }
   ],
   "source": [
    "m=x or y  #+\n",
    "print(m)"
   ]
  },
  {
   "cell_type": "code",
   "execution_count": 5,
   "id": "0c2de9cf",
   "metadata": {},
   "outputs": [
    {
     "data": {
      "text/plain": [
       "True"
      ]
     },
     "execution_count": 5,
     "metadata": {},
     "output_type": "execute_result"
    }
   ],
   "source": [
    "bool(True)"
   ]
  },
  {
   "cell_type": "code",
   "execution_count": 6,
   "id": "c17cccbb",
   "metadata": {},
   "outputs": [
    {
     "data": {
      "text/plain": [
       "False"
      ]
     },
     "execution_count": 6,
     "metadata": {},
     "output_type": "execute_result"
    }
   ],
   "source": [
    "bool(False)"
   ]
  },
  {
   "cell_type": "code",
   "execution_count": 7,
   "id": "8528202b",
   "metadata": {},
   "outputs": [
    {
     "name": "stdout",
     "output_type": "stream",
     "text": [
      "no,I am not here\n"
     ]
    }
   ],
   "source": [
    "if {}:\n",
    "    print(\"I am here\")\n",
    "else:\n",
    "    print(\"no,I am not here\")"
   ]
  },
  {
   "cell_type": "code",
   "execution_count": 9,
   "id": "84b51176",
   "metadata": {},
   "outputs": [
    {
     "data": {
      "text/plain": [
       "False"
      ]
     },
     "execution_count": 9,
     "metadata": {},
     "output_type": "execute_result"
    }
   ],
   "source": [
    "bool('')"
   ]
  },
  {
   "cell_type": "code",
   "execution_count": 10,
   "id": "b3527e4c",
   "metadata": {},
   "outputs": [
    {
     "data": {
      "text/plain": [
       "True"
      ]
     },
     "execution_count": 10,
     "metadata": {},
     "output_type": "execute_result"
    }
   ],
   "source": [
    "bool(\"hey\")"
   ]
  },
  {
   "cell_type": "code",
   "execution_count": 11,
   "id": "baf504cd",
   "metadata": {},
   "outputs": [
    {
     "name": "stdout",
     "output_type": "stream",
     "text": [
      "chalega mera program\n"
     ]
    }
   ],
   "source": [
    "student=\"xyz\"\n",
    "if student:\n",
    "    print(\"chalega mera program\")"
   ]
  },
  {
   "cell_type": "code",
   "execution_count": 14,
   "id": "95f87e7d",
   "metadata": {},
   "outputs": [
    {
     "name": "stdout",
     "output_type": "stream",
     "text": [
      "True\n",
      "True\n",
      "True\n",
      "True\n",
      "True\n",
      "True\n"
     ]
    }
   ],
   "source": [
    "for item in [True,1,2,3,[\"x\",\"y\",\"z\"],(\"x\",\"y\",\"u\")]:\n",
    "    print(bool(item))"
   ]
  },
  {
   "cell_type": "code",
   "execution_count": null,
   "id": "9a6f1409",
   "metadata": {},
   "outputs": [],
   "source": [
    "All the thing in python which also means true or can be considered as true in place like conditional statements.\n",
    "\n",
    "When we use these boolen equivqlents in condiotional statements they are automatically type caste into boolean values."
   ]
  },
  {
   "cell_type": "code",
   "execution_count": 15,
   "id": "4a5fa489",
   "metadata": {},
   "outputs": [
    {
     "name": "stdout",
     "output_type": "stream",
     "text": [
      "python 3\n",
      "hey 5\n"
     ]
    }
   ],
   "source": [
    "xyz={\"python\":3,\"hey\":5}\n",
    "for stuti in xyz:\n",
    "    print(stuti,xyz[stuti])"
   ]
  },
  {
   "cell_type": "code",
   "execution_count": 16,
   "id": "d2ed85fa",
   "metadata": {},
   "outputs": [
    {
     "data": {
      "text/plain": [
       "3"
      ]
     },
     "execution_count": 16,
     "metadata": {},
     "output_type": "execute_result"
    }
   ],
   "source": [
    "xyz[\"python\"]"
   ]
  },
  {
   "cell_type": "code",
   "execution_count": null,
   "id": "06c1bf89",
   "metadata": {},
   "outputs": [],
   "source": [
    "Data types which we can interation over or loop over:\n",
    "    1.list\n",
    "    2.dict\n",
    "    3.set\n",
    "    4.tuple"
   ]
  },
  {
   "cell_type": "code",
   "execution_count": null,
   "id": "2681a7d5",
   "metadata": {},
   "outputs": [],
   "source": [
    "[\"stuti is ok\",\"suwefbef\"]\n",
    "\n",
    "\n",
    "\"stuti is ok\""
   ]
  }
 ],
 "metadata": {
  "kernelspec": {
   "display_name": "Python 3",
   "language": "python",
   "name": "python3"
  },
  "language_info": {
   "codemirror_mode": {
    "name": "ipython",
    "version": 3
   },
   "file_extension": ".py",
   "mimetype": "text/x-python",
   "name": "python",
   "nbconvert_exporter": "python",
   "pygments_lexer": "ipython3",
   "version": "3.8.8"
  }
 },
 "nbformat": 4,
 "nbformat_minor": 5
}
