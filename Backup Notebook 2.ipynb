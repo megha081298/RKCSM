{
 "cells": [
  {
   "cell_type": "markdown",
   "id": "8329fd43",
   "metadata": {},
   "source": [
    "Operators:\n",
    "Operators makes the operand functional.\n",
    "There are many Operators in python:\n",
    "1.Arithemic Operators. (ex:- +,-,*,/,%,**)\n",
    "2.Assignment Operators. (ex:- =,+=,-=,/=,*=,**=,%=)\n",
    "3.Comaprison Operator. (ex:- ==,!=,>,<,>=,<=)\n",
    "4.Logical Operators. (and,or,not)\n",
    "5.Indentity Operators. (is ,is not)\n",
    "6.Membership Operators. (in, not in)\n"
   ]
  },
  {
   "cell_type": "code",
   "execution_count": 1,
   "id": "c1461ef9",
   "metadata": {},
   "outputs": [
    {
     "ename": "NameError",
     "evalue": "name 'a' is not defined",
     "output_type": "error",
     "traceback": [
      "\u001b[0;31m---------------------------------------------------------------------------\u001b[0m",
      "\u001b[0;31mNameError\u001b[0m                                 Traceback (most recent call last)",
      "\u001b[0;32m<ipython-input-1-8a187bc751bc>\u001b[0m in \u001b[0;36m<module>\u001b[0;34m\u001b[0m\n\u001b[0;32m----> 1\u001b[0;31m \u001b[0ma\u001b[0m\u001b[0;34m+=\u001b[0m\u001b[0;36m10\u001b[0m   \u001b[0;31m#both are same\u001b[0m\u001b[0;34m\u001b[0m\u001b[0;34m\u001b[0m\u001b[0m\n\u001b[0m\u001b[1;32m      2\u001b[0m \u001b[0ma\u001b[0m\u001b[0;34m=\u001b[0m\u001b[0ma\u001b[0m\u001b[0;34m+\u001b[0m\u001b[0;36m10\u001b[0m\u001b[0;34m\u001b[0m\u001b[0;34m\u001b[0m\u001b[0m\n",
      "\u001b[0;31mNameError\u001b[0m: name 'a' is not defined"
     ]
    }
   ],
   "source": [
    "a+=10   #both are same\n",
    "a=a+10"
   ]
  },
  {
   "cell_type": "code",
   "execution_count": null,
   "id": "4371adf7",
   "metadata": {},
   "outputs": [],
   "source": [
    "a-=10   #both are same\n",
    "a=a-10"
   ]
  },
  {
   "cell_type": "code",
   "execution_count": null,
   "id": "c6ee430e",
   "metadata": {},
   "outputs": [],
   "source": [
    "x=10   #assgning the value\n",
    "x==10 #comaparison\n"
   ]
  },
  {
   "cell_type": "code",
   "execution_count": null,
   "id": "f4719ecf",
   "metadata": {},
   "outputs": [],
   "source": [
    "Syntax for conditional statment:\n",
    "Syntax: How a piece of code is written according to rules.\n",
    "    \n",
    "    \n",
    "    if Boolean condition:\n",
    "        Python piece code.....\n",
    "        .........\n",
    "        ........\n",
    "        \n",
    "        \n",
    "    else:\n",
    "        Python piece code.....\n",
    "        .........\n",
    "        ........\n",
    "        \n",
    "What can be the bOOlean condition we can write while defining the conditional statement.\n",
    "Ans:Comaprison Operator. (ex:- ==,!=,>,<,>=,<=)\n",
    "        "
   ]
  },
  {
   "cell_type": "code",
   "execution_count": null,
   "id": "5e12121a",
   "metadata": {},
   "outputs": [],
   "source": [
    "X=False\n",
    "\n",
    "if X:\n",
    "    print(\"you are correct\")\n",
    "else:\n",
    "    print(\"you are useless!!!\")"
   ]
  },
  {
   "cell_type": "code",
   "execution_count": null,
   "id": "2ea62368",
   "metadata": {},
   "outputs": [],
   "source": [
    "X=True\n",
    "\n",
    "if X:\n",
    "    print(\"you are correct\")\n",
    "else:\n",
    "    print(\"you are useless!!!\")"
   ]
  },
  {
   "cell_type": "code",
   "execution_count": null,
   "id": "49e57765",
   "metadata": {},
   "outputs": [],
   "source": [
    "X=2\n",
    "if X==3:\n",
    "    print(\"Yes it is\")\n",
    "else:\n",
    "    print(\"Find another value\")"
   ]
  },
  {
   "cell_type": "code",
   "execution_count": null,
   "id": "2d14a85e",
   "metadata": {},
   "outputs": [],
   "source": [
    "How to find the number is even or not?\n",
    "\n",
    "    "
   ]
  },
  {
   "cell_type": "code",
   "execution_count": null,
   "id": "efc5e342",
   "metadata": {},
   "outputs": [],
   "source": [
    "z=int(input())\n",
    "if z%2==0:\n",
    "    print(\"it is even\")\n",
    "else:\n",
    "    print(\"it is odd\")"
   ]
  },
  {
   "cell_type": "code",
   "execution_count": null,
   "id": "f89f6b51",
   "metadata": {},
   "outputs": [],
   "source": [
    "#Take two int values from user and print if they are equal or not.\n",
    "a=int(input(\"first number \"))\n",
    "b=int(input(\"second number \"))\n",
    "\n",
    "if a==b:\n",
    "    print(\"it is equal\")\n",
    "else:\n",
    "    print(\"its not equal\")"
   ]
  },
  {
   "cell_type": "code",
   "execution_count": null,
   "id": "bbbba919",
   "metadata": {},
   "outputs": [],
   "source": [
    "#Take two int values from user and print greatest amongst them.\n",
    "print(\"Enter first number\")\n",
    "first=int(input())\n",
    "print(\"Enter second number\")\n",
    "second=int(input())\n",
    "if first>second:\n",
    "    print(\"greatest one\",first)\n",
    "elif second>first:\n",
    "    print(\"greatest one\",second)\n",
    "else:\n",
    "    print(\"Both are equal\",first,second)"
   ]
  },
  {
   "cell_type": "code",
   "execution_count": null,
   "id": "593c38ac",
   "metadata": {},
   "outputs": [],
   "source": [
    "Syntax of nested if else:\n",
    "    if Boolean condition:\n",
    "        piece of code...\n",
    "        ......\n",
    "        \n",
    "        if Boolean condition:\n",
    "            piece of code....\n",
    "            .......\n",
    "        else:\n",
    "            Piece of code...\n",
    "            .....\n",
    "    else:\n",
    "        piece pf code...\n",
    "          \n",
    "        "
   ]
  },
  {
   "cell_type": "code",
   "execution_count": null,
   "id": "44a53a9a",
   "metadata": {},
   "outputs": [],
   "source": [
    "x=2\n",
    "if x%2==0:\n",
    "    print(\"it is even\")\n",
    "    \n",
    "    if x>0:\n",
    "        print(\"it is positive as well\")\n",
    "    else:\n",
    "        print(\"it is not positive\")\n",
    "else:\n",
    "    print(\"it is odd\")"
   ]
  },
  {
   "cell_type": "code",
   "execution_count": null,
   "id": "7362bddd",
   "metadata": {},
   "outputs": [],
   "source": [
    "orders=[\"cakes\",\"veg puff\",\"pastries\"]\n",
    "if \"cakes\" in orders:\n",
    "    print(\"yes it is\")\n",
    "elif \"Gulabjamun\" in orders:\n",
    "    print(\"yes it is\")\n",
    "elif \"pastries\" in orders:\n",
    "    print(\"yes\")\n",
    "else:\n",
    "    print(\"No\")"
   ]
  },
  {
   "cell_type": "code",
   "execution_count": null,
   "id": "4c412f29",
   "metadata": {},
   "outputs": [],
   "source": [
    "if \"cakes\" in orders:\n",
    "    print(\"Yummy\")\n",
    "if \"pastries\" in orders:\n",
    "    print(\"wow\")"
   ]
  },
  {
   "cell_type": "code",
   "execution_count": null,
   "id": "cb32348a",
   "metadata": {},
   "outputs": [],
   "source": [
    "#Loops:\n",
    "Syntax:\n",
    "    for name_of_var in name_of_list/tuple/or anything:\n",
    "        Piece of code....\n",
    "        ............\n",
    "      "
   ]
  },
  {
   "cell_type": "code",
   "execution_count": null,
   "id": "d0da6874",
   "metadata": {},
   "outputs": [],
   "source": [
    "x=[2,3,4,5,6,7,8]\n",
    "\n",
    "for papaya in x:\n",
    "    if papaya%2==0:\n",
    "        print(\"it is even\")\n",
    "    \n",
    "        if papaya>0:\n",
    "            print(\"it is positive as well\")\n",
    "        else:\n",
    "            print(\"it is not positive\")\n",
    "    else:\n",
    "        print(\"it is odd\")\n",
    "\n"
   ]
  },
  {
   "cell_type": "code",
   "execution_count": null,
   "id": "22db3ec5",
   "metadata": {},
   "outputs": [],
   "source": [
    "Print \"yes \" if the  given list is divisible by both 3 and 5.\n",
    "\n",
    "\n",
    "y=[3,5,15,20,30]"
   ]
  },
  {
   "cell_type": "code",
   "execution_count": null,
   "id": "64995da0",
   "metadata": {},
   "outputs": [],
   "source": [
    "y=[3,5,15,20,30]\n",
    "for p in y:\n",
    "    if p%3==0 and p%5==0:\n",
    "         print(\"yes\")\n",
    "    else:\n",
    "        print(\"no\")"
   ]
  },
  {
   "cell_type": "code",
   "execution_count": null,
   "id": "c51f41a0",
   "metadata": {},
   "outputs": [],
   "source": [
    "for megha in {223,233,223,12}:\n",
    "    print(megha)"
   ]
  },
  {
   "cell_type": "code",
   "execution_count": null,
   "id": "a9ec6861",
   "metadata": {},
   "outputs": [],
   "source": [
    "xyz={\"python\":4,\"C sharp\":12,\"Java\":23}\n",
    "for megha in xyz:\n",
    "    print(megha)"
   ]
  },
  {
   "cell_type": "markdown",
   "id": "91c93f0b",
   "metadata": {},
   "source": [
    "xyz={\"python\":4,\"C sharp\":12,\"Java\":23}\n",
    "for megha in xyz:\n",
    "    print(megha[xyz])  *****"
   ]
  },
  {
   "cell_type": "code",
   "execution_count": null,
   "id": "b03c4af0",
   "metadata": {},
   "outputs": [],
   "source": [
    "for megha in (1,2,3,4,5,6):\n",
    "    print(megha)"
   ]
  },
  {
   "cell_type": "code",
   "execution_count": null,
   "id": "98d32b72",
   "metadata": {},
   "outputs": [],
   "source": [
    "bool()"
   ]
  },
  {
   "cell_type": "code",
   "execution_count": null,
   "id": "3fbb2957",
   "metadata": {
    "scrolled": true
   },
   "outputs": [],
   "source": [
    "bool(\"xyz\")"
   ]
  },
  {
   "cell_type": "code",
   "execution_count": null,
   "id": "2068a4da",
   "metadata": {},
   "outputs": [],
   "source": [
    "bool(True)"
   ]
  },
  {
   "cell_type": "code",
   "execution_count": null,
   "id": "2ae5c8bd",
   "metadata": {},
   "outputs": [],
   "source": [
    "bool(False)"
   ]
  },
  {
   "cell_type": "code",
   "execution_count": null,
   "id": "4f617247",
   "metadata": {},
   "outputs": [],
   "source": [
    "if {}:\n",
    "    print(bool())\n",
    "else:\n",
    "    print(bool())"
   ]
  },
  {
   "cell_type": "code",
   "execution_count": null,
   "id": "f76d5984",
   "metadata": {},
   "outputs": [],
   "source": [
    "#Range function it will only works with integer data type.\n",
    "\n",
    "for x in range(10,1,-1):\n",
    "    print(x)"
   ]
  },
  {
   "cell_type": "code",
   "execution_count": null,
   "id": "758b3fff",
   "metadata": {},
   "outputs": [],
   "source": [
    "\n",
    "for x in range(1,10,1):\n",
    "    print(x)"
   ]
  },
  {
   "cell_type": "code",
   "execution_count": null,
   "id": "193747a6",
   "metadata": {},
   "outputs": [],
   "source": [
    "#length \"len\" it only works for string data type:\n",
    "\n",
    "x=\"this class is lazy today\"\n",
    "print(len(x))"
   ]
  },
  {
   "cell_type": "code",
   "execution_count": null,
   "id": "a2085c89",
   "metadata": {},
   "outputs": [],
   "source": [
    "x=145677.00\n",
    "print(len(str(x)))"
   ]
  },
  {
   "cell_type": "code",
   "execution_count": null,
   "id": "286c8bde",
   "metadata": {},
   "outputs": [],
   "source": [
    "#User defined functions:\n",
    "\n",
    "syntax:\n",
    "    def name_of_function(arg1,arg2):\n",
    "        sum_=arg1+arg2\n",
    "        sub_=srg1-arg2\n",
    "        print(sum_*sub_)\n",
    "        "
   ]
  },
  {
   "cell_type": "code",
   "execution_count": null,
   "id": "3f4c66a8",
   "metadata": {},
   "outputs": [],
   "source": [
    "def name_of_function(arg1,arg2):\n",
    "    sum_=arg1+arg2\n",
    "    sub_=arg1-arg2\n",
    "    print(sum_*sub_)"
   ]
  },
  {
   "cell_type": "code",
   "execution_count": null,
   "id": "006dd6a7",
   "metadata": {},
   "outputs": [],
   "source": [
    "name_of_function(12,24)"
   ]
  },
  {
   "cell_type": "code",
   "execution_count": null,
   "id": "89acf489",
   "metadata": {},
   "outputs": [],
   "source": [
    "def name_of_function(arg1,arg2):\n",
    "    sum_=arg1+arg2\n",
    "    sub_=arg1-arg2\n",
    "    print(sum_*sub_)\n",
    "name_of_function(int(input()),int(input()))"
   ]
  },
  {
   "cell_type": "code",
   "execution_count": null,
   "id": "a9e57159",
   "metadata": {},
   "outputs": [],
   "source": [
    "def name_of_function(arg1,arg2):\n",
    "    x=int(input())\n",
    "    y=int(input())\n",
    "    sum_=x+y\n",
    "    sub_=x-y\n",
    "    print(sum_*sub_)\n",
    "name_of_function(x,y)"
   ]
  },
  {
   "cell_type": "code",
   "execution_count": null,
   "id": "bc850f0e",
   "metadata": {},
   "outputs": [],
   "source": [
    "#printing the elements of string:\n",
    "\n",
    "\n",
    "def string1():\n",
    "    given_string=input()\n",
    "    print(given_string[2])\n",
    "string1()"
   ]
  },
  {
   "cell_type": "code",
   "execution_count": null,
   "id": "8921ed7a",
   "metadata": {},
   "outputs": [],
   "source": [
    "#fibonacci:\n",
    "#recursive method:\n",
    "def fab(n):\n",
    "    if n==1:\n",
    "        return 0\n",
    "    if n==2:\n",
    "        return 1\n",
    "    else:\n",
    "        return fab(n-1)+fab(n-2)\n",
    "    \n",
    "    "
   ]
  },
  {
   "cell_type": "code",
   "execution_count": null,
   "id": "2c2b3243",
   "metadata": {},
   "outputs": [],
   "source": [
    "fab(3)"
   ]
  },
  {
   "cell_type": "code",
   "execution_count": null,
   "id": "898e522a",
   "metadata": {},
   "outputs": [],
   "source": [
    "fab(5)"
   ]
  },
  {
   "cell_type": "code",
   "execution_count": null,
   "id": "1ff1e20c",
   "metadata": {},
   "outputs": [],
   "source": [
    "fab(7)"
   ]
  },
  {
   "cell_type": "code",
   "execution_count": null,
   "id": "7d0e3af0",
   "metadata": {},
   "outputs": [],
   "source": [
    "fab(2)"
   ]
  },
  {
   "cell_type": "code",
   "execution_count": null,
   "id": "345c35b4",
   "metadata": {},
   "outputs": [],
   "source": [
    "fab(1)"
   ]
  },
  {
   "cell_type": "code",
   "execution_count": null,
   "id": "ec8c3e50",
   "metadata": {},
   "outputs": [],
   "source": [
    "x=int(input(\"\"))\n",
    "if x==1:\n",
    "    print(\"not valid\")\n",
    "else:\n",
    "    print(\"\",y)\n",
    "y=(x-1)+(x-2)"
   ]
  },
  {
   "cell_type": "code",
   "execution_count": null,
   "id": "605f0550",
   "metadata": {},
   "outputs": [],
   "source": [
    "#iterative method\n",
    "\n",
    "a=0\n",
    "b=1\n",
    "for example in range (0,20):\n",
    "    if (example<= 1):\n",
    "        z = example\n",
    "    else:\n",
    "        z = a+b\n",
    "        a = b\n",
    "        b = z \n",
    "    print(z) "
   ]
  },
  {
   "cell_type": "markdown",
   "id": "52fee647",
   "metadata": {},
   "source": [
    "Syntax for while loop:\n",
    "    \n",
    "    \n",
    "    while conditions:\n",
    "        piece of code....\n",
    "        ......."
   ]
  },
  {
   "cell_type": "code",
   "execution_count": 2,
   "id": "75e76cae",
   "metadata": {},
   "outputs": [
    {
     "name": "stdout",
     "output_type": "stream",
     "text": [
      "6\n",
      "7\n",
      "8\n",
      "9\n"
     ]
    }
   ],
   "source": [
    "i=6\n",
    "\n",
    "while i<=9:\n",
    "    print(i)\n",
    "    i+=1  #i=i+1\n",
    "    \n",
    "    "
   ]
  },
  {
   "cell_type": "code",
   "execution_count": 8,
   "id": "ab84152f",
   "metadata": {},
   "outputs": [
    {
     "name": "stdout",
     "output_type": "stream",
     "text": [
      "234\n",
      "it's not\n"
     ]
    }
   ],
   "source": [
    "number=int(input(\"\"))\n",
    "\n",
    "def check(number):\n",
    "    if number in range(1,10):\n",
    "        return True\n",
    "    order=len(str(number))   #3\n",
    "    sum1=0   #64+27+8=99\n",
    "    original_num=number      #234\n",
    "   \n",
    "    while number>0:\n",
    "        digits=number%10     #4   #3   #2\n",
    "        sum1+=digits**order\n",
    "        number=number//10    #234//10=23.4=23   #2.3=2\n",
    "        \n",
    "    if sum1==original_num:\n",
    "        return True\n",
    "    else:\n",
    "        return False\n",
    "        \n",
    "if check(number):\n",
    "    print(\"its armstrong\")\n",
    "        \n",
    "else:\n",
    "    print(\"it's not\")"
   ]
  },
  {
   "cell_type": "code",
   "execution_count": 9,
   "id": "65022034",
   "metadata": {},
   "outputs": [
    {
     "name": "stdout",
     "output_type": "stream",
     "text": [
      "enter humber5\n",
      "the factorial of the number is 120\n"
     ]
    }
   ],
   "source": [
    "#factorial of a number:\n",
    "\n",
    "i=int(input(\"enter number\"))\n",
    "factorial=1\n",
    "\n",
    "while i>0:\n",
    "    factorial=factorial*i   #5*4*3*2*1\n",
    "    i=i-1\n",
    "print(\"the factorial of the number is\",factorial)"
   ]
  },
  {
   "cell_type": "code",
   "execution_count": null,
   "id": "5e85c5c2",
   "metadata": {},
   "outputs": [],
   "source": []
  }
 ],
 "metadata": {
  "kernelspec": {
   "display_name": "Python 3",
   "language": "python",
   "name": "python3"
  },
  "language_info": {
   "codemirror_mode": {
    "name": "ipython",
    "version": 3
   },
   "file_extension": ".py",
   "mimetype": "text/x-python",
   "name": "python",
   "nbconvert_exporter": "python",
   "pygments_lexer": "ipython3",
   "version": "3.8.8"
  }
 },
 "nbformat": 4,
 "nbformat_minor": 5
}
