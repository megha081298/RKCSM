{
 "cells": [
  {
   "cell_type": "code",
   "execution_count": null,
   "id": "dab97a14",
   "metadata": {},
   "outputs": [],
   "source": [
    "Tell me what data types are iterables:\n",
    "    1.strings.\n",
    "    2.tuple\n",
    "    3.sets\n",
    "    4.lists\n",
    "    5.dict\n",
    "    "
   ]
  },
  {
   "cell_type": "code",
   "execution_count": null,
   "id": "95059bb1",
   "metadata": {},
   "outputs": [],
   "source": [
    "Build in functions for python:\n",
    "\n",
    "Length fucntions:-\n",
    "    are nothing but helps in finding the length."
   ]
  },
  {
   "cell_type": "code",
   "execution_count": null,
   "id": "df19e1fe",
   "metadata": {},
   "outputs": [],
   "source": [
    "X=[1,2,3,4,5,7]\n",
    "print(len(X))"
   ]
  },
  {
   "cell_type": "code",
   "execution_count": null,
   "id": "f32aa2fa",
   "metadata": {},
   "outputs": [],
   "source": [
    "dict1={\"python\":2,\"java\":3}\n",
    "print(len(dict1))"
   ]
  },
  {
   "cell_type": "code",
   "execution_count": null,
   "id": "144fed7c",
   "metadata": {},
   "outputs": [],
   "source": [
    "sets={\"apple\",1,1,1,2,3}\n",
    "print(len(sets))"
   ]
  },
  {
   "cell_type": "code",
   "execution_count": null,
   "id": "9f338607",
   "metadata": {},
   "outputs": [],
   "source": [
    "tuple1=(1,2,3,5,7)\n",
    "print(len(tuple1))"
   ]
  },
  {
   "cell_type": "code",
   "execution_count": null,
   "id": "e7550f9c",
   "metadata": {},
   "outputs": [],
   "source": [
    "range()\n",
    "will do nothing but provides you the range.\n",
    "\n",
    "\n",
    "Syntax:\n",
    "    range(start,stop,step)"
   ]
  },
  {
   "cell_type": "code",
   "execution_count": null,
   "id": "d724b032",
   "metadata": {},
   "outputs": [],
   "source": [
    "\n",
    "\n",
    "for number in range(1,10):\n",
    "    print(number)"
   ]
  },
  {
   "cell_type": "code",
   "execution_count": null,
   "id": "bbe53a9e",
   "metadata": {},
   "outputs": [],
   "source": [
    "for number1 in range(3,10,2):\n",
    "    print(number1)"
   ]
  },
  {
   "cell_type": "code",
   "execution_count": null,
   "id": "ebf0ff1f",
   "metadata": {},
   "outputs": [],
   "source": [
    "Range is nothing but defining and slicing the values at the same time.\n",
    "It helps us to reduce the lines of codes."
   ]
  },
  {
   "cell_type": "code",
   "execution_count": null,
   "id": "ff9f235d",
   "metadata": {},
   "outputs": [],
   "source": [
    "for number2 in range(10,3,-1):\n",
    "    print(number2)"
   ]
  },
  {
   "cell_type": "code",
   "execution_count": null,
   "id": "6b67ccd6",
   "metadata": {},
   "outputs": [],
   "source": [
    "help(range)"
   ]
  },
  {
   "cell_type": "code",
   "execution_count": null,
   "id": "dbb37857",
   "metadata": {},
   "outputs": [],
   "source": [
    "help(len)"
   ]
  },
  {
   "cell_type": "markdown",
   "id": "767642d8",
   "metadata": {},
   "source": [
    "# print table of 5:"
   ]
  },
  {
   "cell_type": "code",
   "execution_count": null,
   "id": "e0e910d6",
   "metadata": {},
   "outputs": [],
   "source": [
    "for i in range(11,1,-1):\n",
    "    x=i*5\n",
    "    print(x)"
   ]
  },
  {
   "cell_type": "code",
   "execution_count": null,
   "id": "9c900ad7",
   "metadata": {},
   "outputs": [],
   "source": [
    "append()\n",
    "build in function in python which adds the value in list or you can any data types.\n",
    "\n"
   ]
  },
  {
   "cell_type": "code",
   "execution_count": null,
   "id": "fbb47156",
   "metadata": {},
   "outputs": [],
   "source": [
    "months=[\"January\",\"february\",\"march\"]\n",
    "months.append(\"april\")\n",
    "print(months)"
   ]
  },
  {
   "cell_type": "code",
   "execution_count": null,
   "id": "bd18ebf8",
   "metadata": {},
   "outputs": [],
   "source": [
    "tuple1=(1,2,3,4)\n",
    "tuple1.append(5)\n",
    "print(tuple1)\n",
    "\n",
    "##append only works with mutable datatypes."
   ]
  },
  {
   "cell_type": "markdown",
   "id": "a0b0d6e1",
   "metadata": {},
   "source": [
    "# While loop\n",
    "\n",
    "A while loop in programming concept, when it implements excutes a piece of code over and over again until the staisfied condiyion gets reached."
   ]
  },
  {
   "cell_type": "code",
   "execution_count": null,
   "id": "b74056de",
   "metadata": {},
   "outputs": [],
   "source": [
    "i=6\n",
    "while i<=9:\n",
    "    print(i)\n",
    "    i+=1   ## i=i+1"
   ]
  },
  {
   "cell_type": "code",
   "execution_count": null,
   "id": "9d2dabbe",
   "metadata": {},
   "outputs": [],
   "source": [
    "i=5\n",
    "while i<15:\n",
    "    print(\"hello world\")"
   ]
  },
  {
   "cell_type": "code",
   "execution_count": null,
   "id": "935407f1",
   "metadata": {},
   "outputs": [],
   "source": [
    "for loop the no. of iterations aee already known and id used to obtain a certain result.\n",
    "while loop runs until a certail condition is reached."
   ]
  },
  {
   "cell_type": "code",
   "execution_count": null,
   "id": "145654f1",
   "metadata": {},
   "outputs": [],
   "source": [
    "break\n",
    "continue\n",
    "pass\n"
   ]
  },
  {
   "cell_type": "code",
   "execution_count": null,
   "id": "7895c9ef",
   "metadata": {},
   "outputs": [],
   "source": [
    "i=1\n",
    "while i!=3:\n",
    "    print(i)\n",
    "    if i==2:\n",
    "        break  ##break statements are nothing but use to terminate the loops.\n",
    "    i=i+1"
   ]
  },
  {
   "cell_type": "code",
   "execution_count": null,
   "id": "3fad147a",
   "metadata": {},
   "outputs": [],
   "source": [
    "i=1\n",
    "while i!=3:\n",
    "    i=i+1\n",
    "    print(i)\n",
    "    if i==2:\n",
    "        continue #continue to work.\n",
    "    print(\"going fine\")"
   ]
  },
  {
   "cell_type": "code",
   "execution_count": null,
   "id": "6eb2b00b",
   "metadata": {},
   "outputs": [],
   "source": [
    "i=0\n",
    "while i!=3:\n",
    "    print(i)\n",
    "    if i==2:\n",
    "        pass #pass is nothing but passing the values in loop or forwarding the loop.\n",
    "    i=i+1"
   ]
  },
  {
   "cell_type": "code",
   "execution_count": null,
   "id": "5171f4fa",
   "metadata": {},
   "outputs": [],
   "source": [
    "Fucntions:\n",
    "    function are nothing but the portion of code which we can use anywhere once created if required.\n",
    "advantages:\n",
    "    1.reusibility.\n",
    "    2.modularity"
   ]
  },
  {
   "cell_type": "code",
   "execution_count": null,
   "id": "3d28b48f",
   "metadata": {},
   "outputs": [],
   "source": [
    "Syntax:\n",
    "    def name_of_fuction (arg1,arg2):\n",
    "        lines of code.....\n",
    "        ........\n",
    "        .....\n",
    "Syntax:\n",
    "    name_of_func(parameters)"
   ]
  },
  {
   "cell_type": "code",
   "execution_count": null,
   "id": "aef0f4a0",
   "metadata": {},
   "outputs": [],
   "source": [
    "#example of functions\n",
    "\n",
    "def sum_sub (input1,input2):\n",
    "    sum_of_1=input1+input2\n",
    "    sub_of_1=input1-input2\n",
    "    print(sum_of_1*sub_of_1)"
   ]
  },
  {
   "cell_type": "code",
   "execution_count": null,
   "id": "e070255b",
   "metadata": {},
   "outputs": [],
   "source": [
    "sum_sub(23,45)"
   ]
  },
  {
   "cell_type": "code",
   "execution_count": null,
   "id": "b00a7ccf",
   "metadata": {},
   "outputs": [],
   "source": [
    "sum_sub(2,3)"
   ]
  },
  {
   "cell_type": "code",
   "execution_count": null,
   "id": "df4300e2",
   "metadata": {},
   "outputs": [],
   "source": [
    "write a fucntion which will take a list and print 1st element of list."
   ]
  },
  {
   "cell_type": "code",
   "execution_count": null,
   "id": "ab6542c4",
   "metadata": {},
   "outputs": [],
   "source": [
    "def list_index (list1):\n",
    "    list2=list1[0]\n",
    "    print(list2)"
   ]
  },
  {
   "cell_type": "code",
   "execution_count": null,
   "id": "7d04aad2",
   "metadata": {},
   "outputs": [],
   "source": [
    "list_index([\"apple\",\"mango\"])"
   ]
  },
  {
   "cell_type": "code",
   "execution_count": null,
   "id": "56e2d8f4",
   "metadata": {},
   "outputs": [],
   "source": [
    "def list_index(list1):\n",
    "    print(list1[0])"
   ]
  },
  {
   "cell_type": "code",
   "execution_count": null,
   "id": "72afd356",
   "metadata": {},
   "outputs": [],
   "source": [
    "list_index([{\"pyhton\":1,\"java\":5},2,3])"
   ]
  },
  {
   "cell_type": "code",
   "execution_count": null,
   "id": "eae6cec2",
   "metadata": {},
   "outputs": [],
   "source": [
    "def string1():\n",
    "    given_string=input()\n",
    "    print(given_string[0])"
   ]
  },
  {
   "cell_type": "code",
   "execution_count": null,
   "id": "36daf82b",
   "metadata": {},
   "outputs": [],
   "source": [
    "string1()"
   ]
  },
  {
   "cell_type": "code",
   "execution_count": null,
   "id": "84b862bf",
   "metadata": {},
   "outputs": [],
   "source": [
    "X=int(input(\"element\"))\n",
    "for y in range(10,0,-1):\n",
    "    z=X*y\n",
    "    print(z)\n",
    "    "
   ]
  },
  {
   "cell_type": "code",
   "execution_count": null,
   "id": "fab33037",
   "metadata": {},
   "outputs": [],
   "source": []
  },
  {
   "cell_type": "code",
   "execution_count": null,
   "id": "b592c68d",
   "metadata": {},
   "outputs": [],
   "source": [
    "\n"
   ]
  }
 ],
 "metadata": {
  "kernelspec": {
   "display_name": "Python 3",
   "language": "python",
   "name": "python3"
  },
  "language_info": {
   "codemirror_mode": {
    "name": "ipython",
    "version": 3
   },
   "file_extension": ".py",
   "mimetype": "text/x-python",
   "name": "python",
   "nbconvert_exporter": "python",
   "pygments_lexer": "ipython3",
   "version": "3.8.8"
  }
 },
 "nbformat": 4,
 "nbformat_minor": 5
}
