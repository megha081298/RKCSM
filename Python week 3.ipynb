{
 "cells": [
  {
   "cell_type": "code",
   "execution_count": null,
   "id": "dab97a14",
   "metadata": {},
   "outputs": [],
   "source": [
    "Tell me what data types are iterables:\n",
    "    1.strings.\n",
    "    2.tuple\n",
    "    3.sets\n",
    "    4.lists\n",
    "    5.dict\n",
    "    "
   ]
  },
  {
   "cell_type": "code",
   "execution_count": null,
   "id": "95059bb1",
   "metadata": {},
   "outputs": [],
   "source": [
    "Build in functions for python:\n",
    "\n",
    "Length fucntions:-\n",
    "    are nothing but helps in finding the length."
   ]
  },
  {
   "cell_type": "code",
   "execution_count": null,
   "id": "df19e1fe",
   "metadata": {},
   "outputs": [],
   "source": [
    "X=[1,2,3,4,5,7]\n",
    "print(len(X))"
   ]
  },
  {
   "cell_type": "code",
   "execution_count": null,
   "id": "f32aa2fa",
   "metadata": {},
   "outputs": [],
   "source": [
    "dict1={\"python\":2,\"java\":3}\n",
    "print(len(dict1))"
   ]
  },
  {
   "cell_type": "code",
   "execution_count": null,
   "id": "144fed7c",
   "metadata": {},
   "outputs": [],
   "source": [
    "sets={\"apple\",1,1,1,2,3}\n",
    "print(len(sets))"
   ]
  },
  {
   "cell_type": "code",
   "execution_count": null,
   "id": "9f338607",
   "metadata": {},
   "outputs": [],
   "source": [
    "tuple1=(1,2,3,5,7)\n",
    "print(len(tuple1))"
   ]
  },
  {
   "cell_type": "code",
   "execution_count": null,
   "id": "e7550f9c",
   "metadata": {},
   "outputs": [],
   "source": [
    "range()\n",
    "will do nothing but provides you the range.\n",
    "\n",
    "\n",
    "Syntax:\n",
    "    range(start,stop,step)"
   ]
  },
  {
   "cell_type": "code",
   "execution_count": null,
   "id": "d724b032",
   "metadata": {},
   "outputs": [],
   "source": [
    "\n",
    "\n",
    "for number in range(1,10):\n",
    "    print(number)"
   ]
  },
  {
   "cell_type": "code",
   "execution_count": null,
   "id": "bbe53a9e",
   "metadata": {},
   "outputs": [],
   "source": [
    "for number1 in range(3,10,2):\n",
    "    print(number1)"
   ]
  },
  {
   "cell_type": "code",
   "execution_count": null,
   "id": "ebf0ff1f",
   "metadata": {},
   "outputs": [],
   "source": [
    "Range is nothing but defining and slicing the values at the same time.\n",
    "It helps us to reduce the lines of codes."
   ]
  },
  {
   "cell_type": "code",
   "execution_count": null,
   "id": "ff9f235d",
   "metadata": {},
   "outputs": [],
   "source": [
    "for number2 in range(10,3,-1):\n",
    "    print(number2)"
   ]
  },
  {
   "cell_type": "code",
   "execution_count": null,
   "id": "6b67ccd6",
   "metadata": {},
   "outputs": [],
   "source": [
    "help(range)"
   ]
  },
  {
   "cell_type": "code",
   "execution_count": null,
   "id": "dbb37857",
   "metadata": {},
   "outputs": [],
   "source": [
    "help(len)"
   ]
  },
  {
   "cell_type": "markdown",
   "id": "767642d8",
   "metadata": {},
   "source": [
    "# print table of 5:"
   ]
  },
  {
   "cell_type": "code",
   "execution_count": null,
   "id": "e0e910d6",
   "metadata": {},
   "outputs": [],
   "source": [
    "for i in range(11,1,-1):\n",
    "    x=i*5\n",
    "    print(x)"
   ]
  },
  {
   "cell_type": "code",
   "execution_count": null,
   "id": "9c900ad7",
   "metadata": {},
   "outputs": [],
   "source": [
    "append()\n",
    "build in function in python which adds the value in list or you can any data types.\n",
    "\n"
   ]
  },
  {
   "cell_type": "code",
   "execution_count": null,
   "id": "fbb47156",
   "metadata": {},
   "outputs": [],
   "source": [
    "months=[\"January\",\"february\",\"march\"]\n",
    "months.append(\"april\")\n",
    "print(months)"
   ]
  },
  {
   "cell_type": "code",
   "execution_count": null,
   "id": "bd18ebf8",
   "metadata": {},
   "outputs": [],
   "source": [
    "tuple1=(1,2,3,4)\n",
    "tuple1.append(5)\n",
    "print(tuple1)\n",
    "\n",
    "##append only works with mutable datatypes."
   ]
  },
  {
   "cell_type": "markdown",
   "id": "a0b0d6e1",
   "metadata": {},
   "source": [
    "# While loop\n",
    "\n",
    "A while loop in programming concept, when it implements excutes a piece of code over and over again until the staisfied condiyion gets reached."
   ]
  },
  {
   "cell_type": "code",
   "execution_count": null,
   "id": "b74056de",
   "metadata": {},
   "outputs": [],
   "source": [
    "i=6\n",
    "while i<=9:\n",
    "    print(i)\n",
    "    i+=1   ## i=i+1"
   ]
  },
  {
   "cell_type": "code",
   "execution_count": null,
   "id": "9d2dabbe",
   "metadata": {},
   "outputs": [],
   "source": [
    "i=5\n",
    "while i<15:\n",
    "    print(\"hello world\")"
   ]
  },
  {
   "cell_type": "code",
   "execution_count": null,
   "id": "935407f1",
   "metadata": {},
   "outputs": [],
   "source": [
    "for loop the no. of iterations aee already known and id used to obtain a certain result.\n",
    "while loop runs until a certail condition is reached."
   ]
  },
  {
   "cell_type": "code",
   "execution_count": null,
   "id": "145654f1",
   "metadata": {},
   "outputs": [],
   "source": [
    "break\n",
    "continue\n",
    "pass\n"
   ]
  },
  {
   "cell_type": "code",
   "execution_count": null,
   "id": "7895c9ef",
   "metadata": {},
   "outputs": [],
   "source": [
    "i=1\n",
    "while i!=3:\n",
    "    print(i)\n",
    "    if i==2:\n",
    "        break  ##break statements are nothing but use to terminate the loops.\n",
    "    i=i+1"
   ]
  },
  {
   "cell_type": "code",
   "execution_count": null,
   "id": "3fad147a",
   "metadata": {},
   "outputs": [],
   "source": [
    "i=1\n",
    "while i!=3:\n",
    "    i=i+1\n",
    "    print(i)\n",
    "    if i==2:\n",
    "        continue #continue to work.\n",
    "    print(\"going fine\")"
   ]
  },
  {
   "cell_type": "code",
   "execution_count": null,
   "id": "6eb2b00b",
   "metadata": {},
   "outputs": [],
   "source": [
    "i=0\n",
    "while i!=3:\n",
    "    print(i)\n",
    "    if i==2:\n",
    "        pass #pass is nothing but passing the values in loop or forwarding the loop.\n",
    "    i=i+1"
   ]
  },
  {
   "cell_type": "code",
   "execution_count": null,
   "id": "5171f4fa",
   "metadata": {},
   "outputs": [],
   "source": [
    "Fucntions:\n",
    "    function are nothing but the portion of code which we can use anywhere once created if required.\n",
    "advantages:\n",
    "    1.reusibility.\n",
    "    2.modularity"
   ]
  },
  {
   "cell_type": "code",
   "execution_count": null,
   "id": "3d28b48f",
   "metadata": {},
   "outputs": [],
   "source": [
    "Syntax:\n",
    "    def name_of_fuction (arg1,arg2):\n",
    "        lines of code.....\n",
    "        ........\n",
    "        .....\n",
    "Syntax:\n",
    "    name_of_func(parameters)"
   ]
  },
  {
   "cell_type": "code",
   "execution_count": null,
   "id": "aef0f4a0",
   "metadata": {},
   "outputs": [],
   "source": [
    "#example of functions\n",
    "\n",
    "def sum_sub (input1,input2):\n",
    "    sum_of_1=input1+input2\n",
    "    sub_of_1=input1-input2\n",
    "    print(sum_of_1*sub_of_1)"
   ]
  },
  {
   "cell_type": "code",
   "execution_count": null,
   "id": "e070255b",
   "metadata": {},
   "outputs": [],
   "source": [
    "sum_sub(23,45)"
   ]
  },
  {
   "cell_type": "code",
   "execution_count": null,
   "id": "b00a7ccf",
   "metadata": {},
   "outputs": [],
   "source": [
    "sum_sub(2,3)"
   ]
  },
  {
   "cell_type": "code",
   "execution_count": null,
   "id": "df4300e2",
   "metadata": {},
   "outputs": [],
   "source": [
    "write a fucntion which will take a list and print 1st element of list."
   ]
  },
  {
   "cell_type": "code",
   "execution_count": null,
   "id": "ab6542c4",
   "metadata": {},
   "outputs": [],
   "source": [
    "def list_index (list1):\n",
    "    list2=list1[0]\n",
    "    print(list2)"
   ]
  },
  {
   "cell_type": "code",
   "execution_count": null,
   "id": "7d04aad2",
   "metadata": {},
   "outputs": [],
   "source": [
    "list_index([\"apple\",\"mango\"])"
   ]
  },
  {
   "cell_type": "code",
   "execution_count": null,
   "id": "56e2d8f4",
   "metadata": {},
   "outputs": [],
   "source": [
    "def list_index(list1):\n",
    "    print(list1[0])"
   ]
  },
  {
   "cell_type": "code",
   "execution_count": null,
   "id": "72afd356",
   "metadata": {},
   "outputs": [],
   "source": [
    "list_index([{\"pyhton\":1,\"java\":5},2,3])"
   ]
  },
  {
   "cell_type": "code",
   "execution_count": null,
   "id": "eae6cec2",
   "metadata": {},
   "outputs": [],
   "source": [
    "def string1():\n",
    "    given_string=input()\n",
    "    print(given_string[0])"
   ]
  },
  {
   "cell_type": "code",
   "execution_count": null,
   "id": "36daf82b",
   "metadata": {},
   "outputs": [],
   "source": [
    "string1()"
   ]
  },
  {
   "cell_type": "code",
   "execution_count": null,
   "id": "fab33037",
   "metadata": {},
   "outputs": [],
   "source": [
    "def sum_sub (input1,input2):\n",
    "    sum_of_1=input1+input2\n",
    "    sub_of_1=input1-input2\n",
    "    print(sum_of_1*sub_of_1)"
   ]
  },
  {
   "cell_type": "code",
   "execution_count": null,
   "id": "b592c68d",
   "metadata": {},
   "outputs": [],
   "source": [
    "sum_sub(23,25)\n"
   ]
  },
  {
   "cell_type": "code",
   "execution_count": null,
   "id": "518eceae",
   "metadata": {},
   "outputs": [],
   "source": [
    "def sum_sub (input1,input2):\n",
    "    sum_of_1=input1+input2 \n",
    "    sub_of_1=input1-input2\n",
    "    return sum_of_1*sub_of_1"
   ]
  },
  {
   "cell_type": "code",
   "execution_count": null,
   "id": "1169745c",
   "metadata": {},
   "outputs": [],
   "source": [
    "xyz=sum_sub(2,3)\n",
    "print(xyz)"
   ]
  },
  {
   "cell_type": "markdown",
   "id": "9d43b79b",
   "metadata": {},
   "source": [
    "# Namespaces"
   ]
  },
  {
   "cell_type": "code",
   "execution_count": null,
   "id": "5c5212b5",
   "metadata": {},
   "outputs": [],
   "source": [
    "Global and local variables."
   ]
  },
  {
   "cell_type": "code",
   "execution_count": null,
   "id": "5ce197e0",
   "metadata": {},
   "outputs": [],
   "source": [
    "x=12  #global variable\n",
    "#y=10"
   ]
  },
  {
   "cell_type": "code",
   "execution_count": null,
   "id": "535250ab",
   "metadata": {},
   "outputs": [],
   "source": [
    "x=12 # global variable\n",
    "def func1(x,y):\n",
    "    c=x+y \n",
    "    print(c) #local varible\n",
    "    return c"
   ]
  },
  {
   "cell_type": "code",
   "execution_count": null,
   "id": "3dda3dc7",
   "metadata": {},
   "outputs": [],
   "source": [
    "print(func1(x,30))"
   ]
  },
  {
   "cell_type": "code",
   "execution_count": null,
   "id": "2a7742b3",
   "metadata": {},
   "outputs": [],
   "source": [
    "c"
   ]
  },
  {
   "cell_type": "code",
   "execution_count": null,
   "id": "ddb73323",
   "metadata": {},
   "outputs": [],
   "source": [
    "Namespace is like a table which have names and you can access those names according to rule.\n",
    "Scope of local variable is inside the function in which we have defined it.\n",
    "scope of global variable is anywhere inside the piece of code."
   ]
  },
  {
   "cell_type": "code",
   "execution_count": null,
   "id": "1c2232de",
   "metadata": {},
   "outputs": [],
   "source": [
    "Write a function whihc retuens list of all even elements from given_list:"
   ]
  },
  {
   "cell_type": "code",
   "execution_count": null,
   "id": "f737c115",
   "metadata": {},
   "outputs": [],
   "source": [
    "def filter_even(given_list):\n",
    "    even_list=[]\n",
    "    for number in given_list:\n",
    "        if number%2==0:\n",
    "            even_list.append(number)\n",
    "    return even_list"
   ]
  },
  {
   "cell_type": "code",
   "execution_count": null,
   "id": "7b44c91e",
   "metadata": {},
   "outputs": [],
   "source": [
    "x=filter_even([1,2,3,4,5,6,7,8])\n",
    "print(x)"
   ]
  },
  {
   "cell_type": "markdown",
   "id": "0f2ee773",
   "metadata": {},
   "source": [
    "# WAF take 2 lists as argurment and retuens sum of respective no. if the length of both the list is same else none:\n",
    "    li=[2,1,4]\n",
    "    l2=[4,5,6]\n",
    "    \n",
    "    result_list=[6,6,10]\n",
    "    3:42 to 3:47"
   ]
  },
  {
   "cell_type": "code",
   "execution_count": null,
   "id": "873fd6e5",
   "metadata": {},
   "outputs": [],
   "source": [
    "def sum_list(list1,list2):\n",
    "    if len(list1)==len(list2):\n",
    "        new_list=[]\n",
    "        for i in range(len(list1)):\n",
    "            new_list.append(list1[i]+list2[i])\n",
    "        return new_list\n",
    "    else:\n",
    "        return none"
   ]
  },
  {
   "cell_type": "code",
   "execution_count": null,
   "id": "bace17d5",
   "metadata": {},
   "outputs": [],
   "source": [
    "sum_list([1,2,3],[3,4,5])"
   ]
  },
  {
   "cell_type": "markdown",
   "id": "07d4a3f8",
   "metadata": {},
   "source": [
    "# Default arguement:\n",
    "    Default arguement is used if no arguement is passed for that particular position."
   ]
  },
  {
   "cell_type": "code",
   "execution_count": 1,
   "id": "1611acf5",
   "metadata": {},
   "outputs": [],
   "source": [
    "present_today=[]\n",
    "absenties=[]\n",
    "\n",
    "def rollcall(name,attendance=\"Absent\"):\n",
    "    if attendance ==\"Present\":\n",
    "        present_today.append(name)\n",
    "    else:\n",
    "        absenties.append(name)"
   ]
  },
  {
   "cell_type": "code",
   "execution_count": 2,
   "id": "9875e1aa",
   "metadata": {},
   "outputs": [],
   "source": [
    "rollcall(\"kinshuk\")"
   ]
  },
  {
   "cell_type": "code",
   "execution_count": 3,
   "id": "965fbc8f",
   "metadata": {},
   "outputs": [
    {
     "data": {
      "text/plain": [
       "['kinshuk']"
      ]
     },
     "execution_count": 3,
     "metadata": {},
     "output_type": "execute_result"
    }
   ],
   "source": [
    "absenties"
   ]
  },
  {
   "cell_type": "code",
   "execution_count": 11,
   "id": "1ed253fb",
   "metadata": {},
   "outputs": [],
   "source": [
    "rollcall(\"stuti\",\"Present\")"
   ]
  },
  {
   "cell_type": "code",
   "execution_count": 12,
   "id": "7e9c706e",
   "metadata": {},
   "outputs": [
    {
     "data": {
      "text/plain": [
       "['stuti', 'shubham', 'stuti']"
      ]
     },
     "execution_count": 12,
     "metadata": {},
     "output_type": "execute_result"
    }
   ],
   "source": [
    "present_today"
   ]
  },
  {
   "cell_type": "code",
   "execution_count": 8,
   "id": "ef55f2b8",
   "metadata": {},
   "outputs": [],
   "source": [
    "rollcall(\"divyangi\")"
   ]
  },
  {
   "cell_type": "markdown",
   "id": "66fdd60f",
   "metadata": {},
   "source": [
    "# Named arguements:\n",
    "    If you don't know the order of parameter but know the name of parameter"
   ]
  },
  {
   "cell_type": "code",
   "execution_count": 25,
   "id": "e75a6811",
   "metadata": {},
   "outputs": [],
   "source": [
    "def task(name,college,stream):\n",
    "    print(name,\"is studying\",college,\"this guy took\",stream)\n",
    "    task(college=\"IIT bombay\",stream=\"Computer Science\",name=\"Rohan\")"
   ]
  },
  {
   "cell_type": "markdown",
   "id": "baa23892",
   "metadata": {},
   "source": [
    "# Variable arguements:\n",
    "    #packing:Pack variable no. of arguemnets into a collection of 1.\n",
    "    #Any number of arguement we can use."
   ]
  },
  {
   "cell_type": "code",
   "execution_count": 27,
   "id": "06d619d0",
   "metadata": {},
   "outputs": [],
   "source": [
    "def mysum(*collection):\n",
    "    print(type(collection))\n",
    "    print(collection)\n",
    "    "
   ]
  },
  {
   "cell_type": "code",
   "execution_count": 28,
   "id": "a51594ef",
   "metadata": {},
   "outputs": [
    {
     "name": "stdout",
     "output_type": "stream",
     "text": [
      "<class 'tuple'>\n",
      "(1, 2, 3, 4, 5, 6, 67)\n"
     ]
    }
   ],
   "source": [
    "mysum(1,2,3,4,5,6,67)"
   ]
  },
  {
   "cell_type": "code",
   "execution_count": 30,
   "id": "991c99d3",
   "metadata": {},
   "outputs": [
    {
     "name": "stdout",
     "output_type": "stream",
     "text": [
      "<class 'tuple'>\n",
      "('stuti', {'python': 3, 'java': 4})\n"
     ]
    }
   ],
   "source": [
    "mysum(\"stuti\",{\"python\":3,\"java\":4})"
   ]
  },
  {
   "cell_type": "code",
   "execution_count": null,
   "id": "8280a7bf",
   "metadata": {},
   "outputs": [],
   "source": []
  }
 ],
 "metadata": {
  "kernelspec": {
   "display_name": "Python 3",
   "language": "python",
   "name": "python3"
  },
  "language_info": {
   "codemirror_mode": {
    "name": "ipython",
    "version": 3
   },
   "file_extension": ".py",
   "mimetype": "text/x-python",
   "name": "python",
   "nbconvert_exporter": "python",
   "pygments_lexer": "ipython3",
   "version": "3.8.8"
  }
 },
 "nbformat": 4,
 "nbformat_minor": 5
}
